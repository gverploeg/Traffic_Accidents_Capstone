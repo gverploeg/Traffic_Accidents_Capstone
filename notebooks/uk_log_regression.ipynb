{
 "cells": [
  {
   "cell_type": "code",
   "execution_count": 289,
   "metadata": {},
   "outputs": [],
   "source": [
    "import pandas as pd\n",
    "import numpy as np\n",
    "import seaborn as sns\n",
    "import matplotlib.pyplot as plt\n",
    "\n",
    "# Read csv file into a pandas dataframe\n",
    "df1 = pd.read_csv('../data/accidents_2009_to_2011.csv')\n"
   ]
  },
  {
   "cell_type": "code",
   "execution_count": 290,
   "metadata": {},
   "outputs": [
    {
     "name": "stderr",
     "output_type": "stream",
     "text": [
      "/opt/anaconda3/lib/python3.7/site-packages/IPython/core/interactiveshell.py:3146: DtypeWarning: Columns (31) have mixed types.Specify dtype option on import or set low_memory=False.\n",
      "  interactivity=interactivity, compiler=compiler, result=result)\n"
     ]
    }
   ],
   "source": [
    "df2 = pd.read_csv('../data/accidents_2012_to_2014.csv')"
   ]
  },
  {
   "cell_type": "code",
   "execution_count": 291,
   "metadata": {},
   "outputs": [],
   "source": [
    "# Combined Different Datasets\n",
    "df = pd.concat([df1, df2], axis=0)"
   ]
  },
  {
   "cell_type": "code",
   "execution_count": 292,
   "metadata": {},
   "outputs": [],
   "source": [
    "# Merged Severity into binary, 'Is_severe, not_severe' \n",
    "accident_df = df.copy()\n",
    "accident_df[\"Accident_Severity\"].replace({2:1, 3:0}, inplace=True)"
   ]
  },
  {
   "cell_type": "code",
   "execution_count": 293,
   "metadata": {},
   "outputs": [],
   "source": [
    "#  Adjusted Urban_or_Rural_Area into 0 and 1\n",
    "\n",
    "accident_df[\"Urban_or_Rural_Area\"].replace({2:0}, inplace=True)"
   ]
  },
  {
   "cell_type": "markdown",
   "metadata": {},
   "source": [
    "### Feature Engineering"
   ]
  },
  {
   "cell_type": "code",
   "execution_count": 274,
   "metadata": {},
   "outputs": [],
   "source": [
    "# 07:00-10:00 and 16:00-19:00"
   ]
  },
  {
   "cell_type": "code",
   "execution_count": 297,
   "metadata": {},
   "outputs": [
    {
     "name": "stdout",
     "output_type": "stream",
     "text": [
      "<class 'pandas.core.frame.DataFrame'>\n",
      "Int64Index: 932689 entries, 0 to 464696\n",
      "Data columns (total 32 columns):\n",
      " #   Column                                       Non-Null Count   Dtype  \n",
      "---  ------                                       --------------   -----  \n",
      " 0   Accident_Index                               932689 non-null  object \n",
      " 1   Location_Easting_OSGR                        932689 non-null  int64  \n",
      " 2   Location_Northing_OSGR                       932689 non-null  int64  \n",
      " 3   Longitude                                    932689 non-null  float64\n",
      " 4   Latitude                                     932689 non-null  float64\n",
      " 5   Police_Force                                 932689 non-null  int64  \n",
      " 6   Accident_Severity                            932689 non-null  int64  \n",
      " 7   Number_of_Vehicles                           932689 non-null  int64  \n",
      " 8   Number_of_Casualties                         932689 non-null  int64  \n",
      " 9   Date                                         932689 non-null  object \n",
      " 10  Day_of_Week                                  932689 non-null  int64  \n",
      " 11  Time                                         932689 non-null  object \n",
      " 12  Local_Authority_(District)                   932689 non-null  int64  \n",
      " 13  Local_Authority_(Highway)                    932689 non-null  object \n",
      " 14  1st_Road_Class                               932689 non-null  int64  \n",
      " 15  1st_Road_Number                              932689 non-null  int64  \n",
      " 16  Road_Type                                    932689 non-null  object \n",
      " 17  Speed_limit                                  932689 non-null  int64  \n",
      " 18  Junction_Control                             567395 non-null  object \n",
      " 19  2nd_Road_Class                               932689 non-null  int64  \n",
      " 20  2nd_Road_Number                              932689 non-null  int64  \n",
      " 21  Pedestrian_Crossing-Human_Control            932689 non-null  object \n",
      " 22  Pedestrian_Crossing-Physical_Facilities      932689 non-null  object \n",
      " 23  Light_Conditions                             932689 non-null  object \n",
      " 24  Weather_Conditions                           932689 non-null  object \n",
      " 25  Road_Surface_Conditions                      932689 non-null  object \n",
      " 26  Special_Conditions_at_Site                   932686 non-null  object \n",
      " 27  Carriageway_Hazards                          932684 non-null  object \n",
      " 28  Urban_or_Rural_Area                          932689 non-null  int64  \n",
      " 29  Did_Police_Officer_Attend_Scene_of_Accident  932355 non-null  object \n",
      " 30  LSOA_of_Accident_Location                    872030 non-null  object \n",
      " 31  Year                                         932689 non-null  int64  \n",
      "dtypes: float64(2), int64(15), object(15)\n",
      "memory usage: 234.8+ MB\n"
     ]
    }
   ],
   "source": [
    "accident_df.info()"
   ]
  },
  {
   "cell_type": "code",
   "execution_count": 298,
   "metadata": {},
   "outputs": [
    {
     "data": {
      "text/plain": [
       "0    15\n",
       "1    10\n",
       "2    14\n",
       "3     8\n",
       "4    17\n",
       "Name: Hour_of_Day, dtype: int64"
      ]
     },
     "execution_count": 298,
     "metadata": {},
     "output_type": "execute_result"
    }
   ],
   "source": [
    "# Created Hours column\n",
    "\n",
    "accident_df['Hour_of_Day'] = accident_df['Time'].str[0:2]\n",
    "\n",
    "accident_df[\"Hour_of_Day\"] = accident_df[\"Hour_of_Day\"].astype(str).astype(int)\n",
    "accident_df[\"Hour_of_Day\"].head()\n"
   ]
  },
  {
   "cell_type": "code",
   "execution_count": 299,
   "metadata": {},
   "outputs": [],
   "source": [
    "rating = []\n",
    "for row in accident_df['Hour_of_Day']:\n",
    "    if row >= 0 and row <=6: rating.append(0)\n",
    "    elif row >= 7 and row <= 10:   rating.append(1)\n",
    "    elif row > 10 and row <=15:  rating.append(0)\n",
    "    elif row >15 and row <= 19:  rating.append(1)\n",
    "    else: rating.append(0)\n",
    "        \n",
    "    \n",
    "accident_df['Rush Hour'] = rating\n",
    "\n",
    "\n",
    "# accident_df.head(19)\n",
    "\n",
    "# accident_df['Rush Hour'] = [0 if x >= 0 & x = 0'Music' else 800 for x in df['Event']] \n",
    "\n",
    "# df['column_name'] <= 0.08 # this just gives us a mask, tells us True or false wether each row fits the condition\n",
    "# df[(df['column_name'] >= 0.04) & (df['column_name'] < 0.08)] # a more complicated mask\n",
    "\n",
    "\n"
   ]
  },
  {
   "cell_type": "code",
   "execution_count": 300,
   "metadata": {},
   "outputs": [],
   "source": [
    "#  Create Season column - start with month column\n",
    "\n",
    "accident_df['Months'] = accident_df['Date'].str[3:5]\n",
    "\n",
    "\n",
    "accident_df[\"Months\"] = accident_df[\"Months\"].astype(str).astype(int)\n",
    "\n"
   ]
  },
  {
   "cell_type": "code",
   "execution_count": 247,
   "metadata": {},
   "outputs": [],
   "source": [
    "# sev_0 = accident_df[(accident_df['Accident_Severity'] == 0)]\n",
    "\n",
    "# sev_1 = accident_df[(accident_df['Accident_Severity'] == 1)]\n",
    "\n",
    "# month_0 = sev_0.groupby(['Months'])['Accident_Index'].count().reset_index()\n",
    "\n",
    "# month_1 = sev_1.groupby(['Months'])['Accident_Index'].count().reset_index()\n",
    "\n",
    "# fig, ax = plt.subplots(1, figsize=(15, 6))\n",
    "# bar_width = 0.2\n",
    "# x1 = month_0.iloc[:, 0]\n",
    "# x2 = month_1.iloc[:,0]\n",
    "# y1 = month_0.iloc[:,1]\n",
    "# y2 = month_1.iloc[:,1]\n",
    "# ax.bar(x1, y1, color='royalblue', width=bar_width, align='edge', label='lack of Severity')\n",
    "# ax.bar(x2, y2, color='tomato', width=-bar_width, align='edge', label='Severity')\n",
    "# plt.xticks(rotation=45, fontsize=10, horizontalalignment='center')\n",
    "# ax.set_ylabel(\"Number of Accidents\", fontsize=15)\n",
    "# ax.set_title(\"Months\", fontsize=18)\n",
    "# fig.tight_layout()\n",
    "# ax.legend()"
   ]
  },
  {
   "cell_type": "code",
   "execution_count": 248,
   "metadata": {},
   "outputs": [],
   "source": [
    "# fig, ax = plt.subplots(1, figsize=(15, 6))\n",
    "# bar_width = 0.2\n",
    "# x1 = month_0.iloc[:, 0]\n",
    "# x2 = month_1.iloc[:,0]\n",
    "# y1 = month_0.iloc[:,1]\n",
    "# y2 = month_1.iloc[:,1]\n",
    "# ax.bar(x1, (y1/(y1+y2)), color='royalblue', width=bar_width, align='edge', label='lack of Severity')\n",
    "# ax.bar(x2, (y2/(y1+y2)), color='tomato', width=-bar_width, align='edge', label='Severity')\n",
    "# plt.xticks(rotation=45, fontsize=10, horizontalalignment='center')\n",
    "# ax.set_ylabel(\"Percentage of Accidents\", fontsize=15)\n",
    "# ax.set_title(\"Percentage of Months\", fontsize=18)\n",
    "# fig.tight_layout()\n",
    "# ax.legend()"
   ]
  },
  {
   "cell_type": "code",
   "execution_count": 301,
   "metadata": {},
   "outputs": [],
   "source": [
    "# Create Weekday & Weekend Column\n",
    "\n",
    "\n",
    "weekend_or_not = []\n",
    "for row in accident_df['Day_of_Week']:\n",
    "    if row == 1 or row ==7: weekend_or_not.append(1)\n",
    "    else: weekend_or_not.append(0)\n",
    "        \n",
    "    \n",
    "accident_df['Weekend'] = weekend_or_not\n"
   ]
  },
  {
   "cell_type": "code",
   "execution_count": 253,
   "metadata": {},
   "outputs": [
    {
     "data": {
      "text/html": [
       "<div>\n",
       "<style scoped>\n",
       "    .dataframe tbody tr th:only-of-type {\n",
       "        vertical-align: middle;\n",
       "    }\n",
       "\n",
       "    .dataframe tbody tr th {\n",
       "        vertical-align: top;\n",
       "    }\n",
       "\n",
       "    .dataframe thead th {\n",
       "        text-align: right;\n",
       "    }\n",
       "</style>\n",
       "<table border=\"1\" class=\"dataframe\">\n",
       "  <thead>\n",
       "    <tr style=\"text-align: right;\">\n",
       "      <th></th>\n",
       "      <th>Weekend</th>\n",
       "      <th>Day_of_Week</th>\n",
       "    </tr>\n",
       "  </thead>\n",
       "  <tbody>\n",
       "    <tr>\n",
       "      <th>0</th>\n",
       "      <td>0</td>\n",
       "      <td>5</td>\n",
       "    </tr>\n",
       "    <tr>\n",
       "      <th>1</th>\n",
       "      <td>0</td>\n",
       "      <td>2</td>\n",
       "    </tr>\n",
       "    <tr>\n",
       "      <th>2</th>\n",
       "      <td>1</td>\n",
       "      <td>1</td>\n",
       "    </tr>\n",
       "    <tr>\n",
       "      <th>3</th>\n",
       "      <td>0</td>\n",
       "      <td>2</td>\n",
       "    </tr>\n",
       "    <tr>\n",
       "      <th>4</th>\n",
       "      <td>0</td>\n",
       "      <td>3</td>\n",
       "    </tr>\n",
       "    <tr>\n",
       "      <th>5</th>\n",
       "      <td>0</td>\n",
       "      <td>5</td>\n",
       "    </tr>\n",
       "    <tr>\n",
       "      <th>6</th>\n",
       "      <td>0</td>\n",
       "      <td>5</td>\n",
       "    </tr>\n",
       "    <tr>\n",
       "      <th>7</th>\n",
       "      <td>0</td>\n",
       "      <td>6</td>\n",
       "    </tr>\n",
       "    <tr>\n",
       "      <th>8</th>\n",
       "      <td>0</td>\n",
       "      <td>4</td>\n",
       "    </tr>\n",
       "    <tr>\n",
       "      <th>9</th>\n",
       "      <td>1</td>\n",
       "      <td>7</td>\n",
       "    </tr>\n",
       "    <tr>\n",
       "      <th>10</th>\n",
       "      <td>0</td>\n",
       "      <td>4</td>\n",
       "    </tr>\n",
       "    <tr>\n",
       "      <th>11</th>\n",
       "      <td>0</td>\n",
       "      <td>6</td>\n",
       "    </tr>\n",
       "    <tr>\n",
       "      <th>12</th>\n",
       "      <td>0</td>\n",
       "      <td>2</td>\n",
       "    </tr>\n",
       "    <tr>\n",
       "      <th>13</th>\n",
       "      <td>0</td>\n",
       "      <td>6</td>\n",
       "    </tr>\n",
       "    <tr>\n",
       "      <th>14</th>\n",
       "      <td>1</td>\n",
       "      <td>7</td>\n",
       "    </tr>\n",
       "  </tbody>\n",
       "</table>\n",
       "</div>"
      ],
      "text/plain": [
       "    Weekend  Day_of_Week\n",
       "0         0            5\n",
       "1         0            2\n",
       "2         1            1\n",
       "3         0            2\n",
       "4         0            3\n",
       "5         0            5\n",
       "6         0            5\n",
       "7         0            6\n",
       "8         0            4\n",
       "9         1            7\n",
       "10        0            4\n",
       "11        0            6\n",
       "12        0            2\n",
       "13        0            6\n",
       "14        1            7"
      ]
     },
     "execution_count": 253,
     "metadata": {},
     "output_type": "execute_result"
    }
   ],
   "source": [
    "accident_df[['Weekend', 'Day_of_Week']].head(15)"
   ]
  },
  {
   "cell_type": "markdown",
   "metadata": {},
   "source": [
    "### Dealing with Nulls"
   ]
  },
  {
   "cell_type": "code",
   "execution_count": 294,
   "metadata": {},
   "outputs": [
    {
     "data": {
      "text/plain": [
       "Accident_Index                                      0\n",
       "Location_Easting_OSGR                               0\n",
       "Location_Northing_OSGR                              0\n",
       "Longitude                                           0\n",
       "Latitude                                            0\n",
       "Police_Force                                        0\n",
       "Accident_Severity                                   0\n",
       "Number_of_Vehicles                                  0\n",
       "Number_of_Casualties                                0\n",
       "Date                                                0\n",
       "Day_of_Week                                         0\n",
       "Time                                               50\n",
       "Local_Authority_(District)                          0\n",
       "Local_Authority_(Highway)                           0\n",
       "1st_Road_Class                                      0\n",
       "1st_Road_Number                                     0\n",
       "Road_Type                                           0\n",
       "Speed_limit                                         0\n",
       "Junction_Detail                                934139\n",
       "Junction_Control                               365890\n",
       "2nd_Road_Class                                      0\n",
       "2nd_Road_Number                                     0\n",
       "Pedestrian_Crossing-Human_Control                   0\n",
       "Pedestrian_Crossing-Physical_Facilities             0\n",
       "Light_Conditions                                    0\n",
       "Weather_Conditions                                106\n",
       "Road_Surface_Conditions                          1296\n",
       "Special_Conditions_at_Site                          4\n",
       "Carriageway_Hazards                                 6\n",
       "Urban_or_Rural_Area                                 0\n",
       "Did_Police_Officer_Attend_Scene_of_Accident       547\n",
       "LSOA_of_Accident_Location                       60727\n",
       "Year                                                0\n",
       "dtype: int64"
      ]
     },
     "execution_count": 294,
     "metadata": {},
     "output_type": "execute_result"
    }
   ],
   "source": [
    "accident_df.isnull().sum(axis = 0)"
   ]
  },
  {
   "cell_type": "code",
   "execution_count": 295,
   "metadata": {},
   "outputs": [
    {
     "name": "stdout",
     "output_type": "stream",
     "text": [
      "<class 'pandas.core.frame.DataFrame'>\n",
      "Int64Index: 934139 entries, 0 to 464696\n",
      "Data columns (total 32 columns):\n",
      " #   Column                                       Non-Null Count   Dtype  \n",
      "---  ------                                       --------------   -----  \n",
      " 0   Accident_Index                               934139 non-null  object \n",
      " 1   Location_Easting_OSGR                        934139 non-null  int64  \n",
      " 2   Location_Northing_OSGR                       934139 non-null  int64  \n",
      " 3   Longitude                                    934139 non-null  float64\n",
      " 4   Latitude                                     934139 non-null  float64\n",
      " 5   Police_Force                                 934139 non-null  int64  \n",
      " 6   Accident_Severity                            934139 non-null  int64  \n",
      " 7   Number_of_Vehicles                           934139 non-null  int64  \n",
      " 8   Number_of_Casualties                         934139 non-null  int64  \n",
      " 9   Date                                         934139 non-null  object \n",
      " 10  Day_of_Week                                  934139 non-null  int64  \n",
      " 11  Time                                         934089 non-null  object \n",
      " 12  Local_Authority_(District)                   934139 non-null  int64  \n",
      " 13  Local_Authority_(Highway)                    934139 non-null  object \n",
      " 14  1st_Road_Class                               934139 non-null  int64  \n",
      " 15  1st_Road_Number                              934139 non-null  int64  \n",
      " 16  Road_Type                                    934139 non-null  object \n",
      " 17  Speed_limit                                  934139 non-null  int64  \n",
      " 18  Junction_Control                             568249 non-null  object \n",
      " 19  2nd_Road_Class                               934139 non-null  int64  \n",
      " 20  2nd_Road_Number                              934139 non-null  int64  \n",
      " 21  Pedestrian_Crossing-Human_Control            934139 non-null  object \n",
      " 22  Pedestrian_Crossing-Physical_Facilities      934139 non-null  object \n",
      " 23  Light_Conditions                             934139 non-null  object \n",
      " 24  Weather_Conditions                           934033 non-null  object \n",
      " 25  Road_Surface_Conditions                      932843 non-null  object \n",
      " 26  Special_Conditions_at_Site                   934135 non-null  object \n",
      " 27  Carriageway_Hazards                          934133 non-null  object \n",
      " 28  Urban_or_Rural_Area                          934139 non-null  int64  \n",
      " 29  Did_Police_Officer_Attend_Scene_of_Accident  933592 non-null  object \n",
      " 30  LSOA_of_Accident_Location                    873412 non-null  object \n",
      " 31  Year                                         934139 non-null  int64  \n",
      "dtypes: float64(2), int64(15), object(15)\n",
      "memory usage: 235.2+ MB\n"
     ]
    }
   ],
   "source": [
    "accident_df.drop(['Junction_Detail'], axis=1, inplace= True)\n",
    "\n",
    "accident_df.info()"
   ]
  },
  {
   "cell_type": "code",
   "execution_count": 296,
   "metadata": {},
   "outputs": [],
   "source": [
    "accident_df = accident_df[accident_df['Time'].notna()]\n",
    "\n",
    "accident_df = accident_df[accident_df['Weather_Conditions'].notna()]\n",
    "\n",
    "accident_df = accident_df[accident_df['Road_Surface_Conditions'].notna()]"
   ]
  },
  {
   "cell_type": "code",
   "execution_count": 146,
   "metadata": {},
   "outputs": [],
   "source": [
    "# accident_df.isnull().sum(axis = 0)"
   ]
  },
  {
   "cell_type": "code",
   "execution_count": 313,
   "metadata": {},
   "outputs": [],
   "source": [
    "feats = ['Accident_Index', 'Police_Force','Longitude', 'Latitude', 'Accident_Severity', 'Number_of_Vehicles', 'Number_of_Casualties',\n",
    "        'Date', 'Time', 'Road_Type', 'Speed_limit', 'Weather_Conditions','Pedestrian_Crossing-Physical_Facilities','Light_Conditions', \n",
    "         'Road_Surface_Conditions', 'Urban_or_Rural_Area', 'Did_Police_Officer_Attend_Scene_of_Accident']\n",
    "\n",
    "markdown = accident_df[feats].head()\n",
    "\n",
    "markdown.to_csv('../data/marked.csv')\n"
   ]
  },
  {
   "cell_type": "markdown",
   "metadata": {},
   "source": [
    "#### Log Regression"
   ]
  },
  {
   "cell_type": "code",
   "execution_count": 147,
   "metadata": {},
   "outputs": [],
   "source": [
    "\n",
    "from statsmodels.tools import add_constant\n",
    "from statsmodels.discrete.discrete_model import Logit\n",
    "\n",
    "from sklearn.datasets import make_classification\n",
    "from sklearn.linear_model import LogisticRegression\n",
    "from sklearn.model_selection import KFold, train_test_split\n",
    "from sklearn.metrics import accuracy_score, precision_score, recall_score"
   ]
  },
  {
   "cell_type": "code",
   "execution_count": 148,
   "metadata": {},
   "outputs": [
    {
     "name": "stdout",
     "output_type": "stream",
     "text": [
      "Optimization terminated successfully.\n",
      "         Current function value: 0.456927\n",
      "         Iterations 6\n"
     ]
    }
   ],
   "source": [
    "X = accident_df[[ 'Urban_or_Rural_Area', 'Speed_limit']].values\n",
    "\n",
    "y = accident_df['Accident_Severity'].values\n",
    "\n",
    "logit_model = Logit(y, X).fit()"
   ]
  },
  {
   "cell_type": "code",
   "execution_count": 149,
   "metadata": {},
   "outputs": [
    {
     "name": "stdout",
     "output_type": "stream",
     "text": [
      "                          Results: Logit\n",
      "==================================================================\n",
      "Model:              Logit            Pseudo R-squared: -0.076     \n",
      "Dependent Variable: y                AIC:              852345.5188\n",
      "Date:               2020-12-01 12:48 BIC:              852369.0105\n",
      "No. Observations:   932689           Log-Likelihood:   -4.2617e+05\n",
      "Df Model:           1                LL-Null:          -3.9603e+05\n",
      "Df Residuals:       932687           LLR p-value:      1.0000     \n",
      "Converged:          1.0000           Scale:            1.0000     \n",
      "No. Iterations:     6.0000                                        \n",
      "---------------------------------------------------------------------\n",
      "       Coef.     Std.Err.       z        P>|z|      [0.025     0.975]\n",
      "---------------------------------------------------------------------\n",
      "x1    -0.5017      0.0079    -63.3497    0.0000    -0.5172    -0.4862\n",
      "x2    -0.0239      0.0003    -85.2287    0.0000    -0.0244    -0.0233\n",
      "==================================================================\n",
      "\n"
     ]
    }
   ],
   "source": [
    "print(logit_model.summary2())"
   ]
  },
  {
   "cell_type": "code",
   "execution_count": 150,
   "metadata": {},
   "outputs": [],
   "source": [
    "X_train, X_test, y_train, y_test = train_test_split(X, y, test_size=0.3, random_state=0)"
   ]
  },
  {
   "cell_type": "code",
   "execution_count": 151,
   "metadata": {},
   "outputs": [
    {
     "name": "stdout",
     "output_type": "stream",
     "text": [
      "[[158809  78629]\n",
      " [ 24367  18002]]\n"
     ]
    }
   ],
   "source": [
    "\n",
    "logreg = LogisticRegression(random_state = 0)\n",
    "logreg.fit(X_train, y_train)\n",
    "\n",
    "y_pred_x = logreg.predict(X_test)\n",
    "y_pred = logreg.predict_proba(X_test)\n",
    "y_pred_prob = y_pred[:,1]\n",
    "y_pred_new_thresh= y_pred_prob >= .16\n",
    "\n",
    "# Making the Confusion Matrix \n",
    "\n",
    "from sklearn.metrics import confusion_matrix\n",
    "cm = confusion_matrix(y_test, y_pred_new_thresh)\n",
    "print(cm)"
   ]
  },
  {
   "cell_type": "code",
   "execution_count": 153,
   "metadata": {},
   "outputs": [],
   "source": [
    "# 17982 \n",
    "# train on y and x \n",
    "# predict on x and compare predictions to all of y"
   ]
  },
  {
   "cell_type": "code",
   "execution_count": 154,
   "metadata": {},
   "outputs": [
    {
     "name": "stdout",
     "output_type": "stream",
     "text": [
      "              precision    recall  f1-score   support\n",
      "\n",
      "           0       0.87      0.67      0.76    237438\n",
      "           1       0.19      0.42      0.26     42369\n",
      "\n",
      "    accuracy                           0.63    279807\n",
      "   macro avg       0.53      0.55      0.51    279807\n",
      "weighted avg       0.76      0.63      0.68    279807\n",
      "\n"
     ]
    }
   ],
   "source": [
    "from sklearn.metrics import classification_report\n",
    "print(classification_report(y_test, y_pred_new_thresh))"
   ]
  },
  {
   "cell_type": "code",
   "execution_count": 155,
   "metadata": {},
   "outputs": [
    {
     "data": {
      "text/plain": [
       "array([False, False,  True, ...,  True, False,  True])"
      ]
     },
     "execution_count": 155,
     "metadata": {},
     "output_type": "execute_result"
    }
   ],
   "source": [
    "y_pred_prob>= .16"
   ]
  },
  {
   "cell_type": "code",
   "execution_count": 156,
   "metadata": {},
   "outputs": [
    {
     "data": {
      "text/plain": [
       "array([[0.86866806, 0.13133194],\n",
       "       [0.86866806, 0.13133194],\n",
       "       [0.81524934, 0.18475066],\n",
       "       ...,\n",
       "       [0.80744838, 0.19255162],\n",
       "       [0.86866806, 0.13133194],\n",
       "       [0.82280361, 0.17719639]])"
      ]
     },
     "execution_count": 156,
     "metadata": {},
     "output_type": "execute_result"
    }
   ],
   "source": [
    "y_pred"
   ]
  },
  {
   "cell_type": "code",
   "execution_count": 157,
   "metadata": {},
   "outputs": [
    {
     "data": {
      "text/plain": [
       "array([0, 0, 0, ..., 0, 0, 0])"
      ]
     },
     "execution_count": 157,
     "metadata": {},
     "output_type": "execute_result"
    }
   ],
   "source": [
    "y_pred_x"
   ]
  },
  {
   "cell_type": "code",
   "execution_count": 158,
   "metadata": {},
   "outputs": [
    {
     "data": {
      "image/png": "[encoded data removed]",
      "text/plain": [
       "<Figure size 576x360 with 2 Axes>"
      ]
     },
     "metadata": {
      "needs_background": "light"
     },
     "output_type": "display_data"
    }
   ],
   "source": [
    "from sklearn.metrics import multilabel_confusion_matrix\n",
    "from sklearn.linear_model import LogisticRegression\n",
    "\n",
    "clf = LogisticRegression(random_state=42)\n",
    "clf.fit(X_train, y_train)\n",
    "\n",
    "accuracy_train = clf.score(X_train, y_train)\n",
    "\n",
    "y_pred = clf.predict(X_test)\n",
    "\n",
    "confmat = multilabel_confusion_matrix(y_true=y_test, y_pred=y_pred,\n",
    "                           labels=[1])\n",
    "\n",
    "conf_matrix = pd.DataFrame(data=confmat[0],\n",
    "                           columns=['Predicted:0','Predicted:1'],index=['Actual:0','Actual:1'])\n",
    "plt.figure(figsize = (8,5))\n",
    "sns.heatmap(conf_matrix, annot=True,fmt='d',cmap=\"YlGnBu\").set_title(\n",
    "    \"Confusion Matrix (resampled data)\\n-Default Logistic Regression\", fontsize=16)\n",
    "plt.show()"
   ]
  },
  {
   "cell_type": "code",
   "execution_count": 159,
   "metadata": {},
   "outputs": [
    {
     "name": "stderr",
     "output_type": "stream",
     "text": [
      "/opt/anaconda3/lib/python3.7/site-packages/sklearn/metrics/_classification.py:1221: UndefinedMetricWarning: Precision and F-score are ill-defined and being set to 0.0 in labels with no predicted samples. Use `zero_division` parameter to control this behavior.\n",
      "  _warn_prf(average, modifier, msg_start, len(result))\n"
     ]
    },
    {
     "name": "stdout",
     "output_type": "stream",
     "text": [
      "              precision    recall  f1-score   support\n",
      "\n",
      "           0       0.85      1.00      0.92    237438\n",
      "           1       0.00      0.00      0.00     42369\n",
      "\n",
      "    accuracy                           0.85    279807\n",
      "   macro avg       0.42      0.50      0.46    279807\n",
      "weighted avg       0.72      0.85      0.78    279807\n",
      "\n"
     ]
    }
   ],
   "source": [
    "from sklearn.metrics import classification_report\n",
    "print(classification_report(y_test, y_pred))"
   ]
  },
  {
   "cell_type": "code",
   "execution_count": 160,
   "metadata": {},
   "outputs": [
    {
     "name": "stdout",
     "output_type": "stream",
     "text": [
      "              precision    recall  f1-score   support\n",
      "\n",
      "           0       0.87      0.67      0.76    237438\n",
      "           1       0.19      0.42      0.26     42369\n",
      "\n",
      "    accuracy                           0.63    279807\n",
      "   macro avg       0.53      0.55      0.51    279807\n",
      "weighted avg       0.76      0.63      0.68    279807\n",
      "\n"
     ]
    }
   ],
   "source": [
    "from sklearn.metrics import classification_report\n",
    "print(classification_report(y_test, y_pred_new_thresh))"
   ]
  },
  {
   "cell_type": "code",
   "execution_count": 267,
   "metadata": {},
   "outputs": [],
   "source": [
    "#  Random Forest\n",
    "\n",
    "from sklearn.ensemble import RandomForestClassifier\n",
    "\n",
    "classify = RandomForestClassifier()\n",
    "\n",
    "classify.fit(X_train, y_train)\n",
    "\n",
    "y_pred = classify.predict(X_test)\n"
   ]
  },
  {
   "cell_type": "code",
   "execution_count": 162,
   "metadata": {},
   "outputs": [
    {
     "data": {
      "text/plain": [
       "array([0.13172447, 0.13172447, 0.19345515, ..., 0.22800249, 0.13172447,\n",
       "       0.17126152])"
      ]
     },
     "execution_count": 162,
     "metadata": {},
     "output_type": "execute_result"
    }
   ],
   "source": [
    "y_pred_prob = classify.predict_proba(X_test)\n",
    "y_pred_prob = y_pred_prob[:,1]\n",
    "y_pred_prob"
   ]
  },
  {
   "cell_type": "code",
   "execution_count": 163,
   "metadata": {},
   "outputs": [
    {
     "name": "stdout",
     "output_type": "stream",
     "text": [
      "[[  4841 232597]\n",
      " [   667  41702]]\n"
     ]
    }
   ],
   "source": [
    "y_pred_new_thresh_rf= y_pred_prob >= .12\n",
    "\n",
    "\n",
    "cm = confusion_matrix(y_test, y_pred_new_thresh_rf)\n",
    "print(cm)"
   ]
  },
  {
   "cell_type": "code",
   "execution_count": 164,
   "metadata": {},
   "outputs": [
    {
     "name": "stdout",
     "output_type": "stream",
     "text": [
      "              precision    recall  f1-score   support\n",
      "\n",
      "           0       0.88      0.02      0.04    237438\n",
      "           1       0.15      0.98      0.26     42369\n",
      "\n",
      "    accuracy                           0.17    279807\n",
      "   macro avg       0.52      0.50      0.15    279807\n",
      "weighted avg       0.77      0.17      0.07    279807\n",
      "\n"
     ]
    }
   ],
   "source": [
    "print(classification_report(y_test, y_pred_new_thresh_rf))"
   ]
  },
  {
   "cell_type": "markdown",
   "metadata": {},
   "source": [
    "### Feature Importance"
   ]
  },
  {
   "cell_type": "code",
   "execution_count": 165,
   "metadata": {},
   "outputs": [
    {
     "data": {
      "text/plain": [
       "Accident_Index                                      0\n",
       "Location_Easting_OSGR                               0\n",
       "Location_Northing_OSGR                              0\n",
       "Longitude                                           0\n",
       "Latitude                                            0\n",
       "Police_Force                                        0\n",
       "Accident_Severity                                   0\n",
       "Number_of_Vehicles                                  0\n",
       "Number_of_Casualties                                0\n",
       "Date                                                0\n",
       "Day_of_Week                                         0\n",
       "Time                                                0\n",
       "Local_Authority_(District)                          0\n",
       "Local_Authority_(Highway)                           0\n",
       "1st_Road_Class                                      0\n",
       "1st_Road_Number                                     0\n",
       "Road_Type                                           0\n",
       "Speed_limit                                         0\n",
       "Junction_Control                               365294\n",
       "2nd_Road_Class                                      0\n",
       "2nd_Road_Number                                     0\n",
       "Pedestrian_Crossing-Human_Control                   0\n",
       "Pedestrian_Crossing-Physical_Facilities             0\n",
       "Light_Conditions                                    0\n",
       "Weather_Conditions                                  0\n",
       "Road_Surface_Conditions                             0\n",
       "Special_Conditions_at_Site                          3\n",
       "Carriageway_Hazards                                 5\n",
       "Urban_or_Rural_Area                                 0\n",
       "Did_Police_Officer_Attend_Scene_of_Accident       334\n",
       "LSOA_of_Accident_Location                       60659\n",
       "Year                                                0\n",
       "Hour_of_Day                                         0\n",
       "dtype: int64"
      ]
     },
     "execution_count": 165,
     "metadata": {},
     "output_type": "execute_result"
    }
   ],
   "source": [
    "accident_df.isnull().sum(axis = 0)"
   ]
  },
  {
   "cell_type": "code",
   "execution_count": 257,
   "metadata": {},
   "outputs": [
    {
     "name": "stdout",
     "output_type": "stream",
     "text": [
      "<class 'pandas.core.frame.DataFrame'>\n",
      "Int64Index: 932689 entries, 0 to 464696\n",
      "Data columns (total 36 columns):\n",
      " #   Column                                       Non-Null Count   Dtype  \n",
      "---  ------                                       --------------   -----  \n",
      " 0   Accident_Index                               932689 non-null  object \n",
      " 1   Location_Easting_OSGR                        932689 non-null  int64  \n",
      " 2   Location_Northing_OSGR                       932689 non-null  int64  \n",
      " 3   Longitude                                    932689 non-null  float64\n",
      " 4   Latitude                                     932689 non-null  float64\n",
      " 5   Police_Force                                 932689 non-null  int64  \n",
      " 6   Accident_Severity                            932689 non-null  int64  \n",
      " 7   Number_of_Vehicles                           932689 non-null  int64  \n",
      " 8   Number_of_Casualties                         932689 non-null  int64  \n",
      " 9   Date                                         932689 non-null  object \n",
      " 10  Day_of_Week                                  932689 non-null  int64  \n",
      " 11  Time                                         932689 non-null  object \n",
      " 12  Local_Authority_(District)                   932689 non-null  int64  \n",
      " 13  Local_Authority_(Highway)                    932689 non-null  object \n",
      " 14  1st_Road_Class                               932689 non-null  int64  \n",
      " 15  1st_Road_Number                              932689 non-null  int64  \n",
      " 16  Road_Type                                    932689 non-null  object \n",
      " 17  Speed_limit                                  932689 non-null  int64  \n",
      " 18  Junction_Control                             567395 non-null  object \n",
      " 19  2nd_Road_Class                               932689 non-null  int64  \n",
      " 20  2nd_Road_Number                              932689 non-null  int64  \n",
      " 21  Pedestrian_Crossing-Human_Control            932689 non-null  object \n",
      " 22  Pedestrian_Crossing-Physical_Facilities      932689 non-null  object \n",
      " 23  Light_Conditions                             932689 non-null  object \n",
      " 24  Weather_Conditions                           932689 non-null  object \n",
      " 25  Road_Surface_Conditions                      932689 non-null  object \n",
      " 26  Special_Conditions_at_Site                   932686 non-null  object \n",
      " 27  Carriageway_Hazards                          932684 non-null  object \n",
      " 28  Urban_or_Rural_Area                          932689 non-null  int64  \n",
      " 29  Did_Police_Officer_Attend_Scene_of_Accident  932355 non-null  object \n",
      " 30  LSOA_of_Accident_Location                    872030 non-null  object \n",
      " 31  Year                                         932689 non-null  int64  \n",
      " 32  Hour_of_Day                                  932689 non-null  int64  \n",
      " 33  Rush Hour                                    932689 non-null  int64  \n",
      " 34  Months                                       932689 non-null  int64  \n",
      " 35  Weekend                                      932689 non-null  int64  \n",
      "dtypes: float64(2), int64(19), object(15)\n",
      "memory usage: 263.3+ MB\n"
     ]
    }
   ],
   "source": [
    "accident_df.info()"
   ]
  },
  {
   "cell_type": "code",
   "execution_count": 167,
   "metadata": {},
   "outputs": [
    {
     "data": {
      "image/png": "[encoded data removed]",
      "text/plain": [
       "<Figure size 864x864 with 1 Axes>"
      ]
     },
     "metadata": {
      "needs_background": "light"
     },
     "output_type": "display_data"
    }
   ],
   "source": [
    "# Just looking at some numerical features right now\n",
    "\n",
    "train_y = accident_df['Accident_Severity'].values\n",
    "# x_cols = [col for col in accident_df.columns if col not in ['Accident_Severity'] if accident_df[col].dtype=='float64']\n",
    "train_col= accident_df[['Longitude', 'Latitude', 'Day_of_Week', 'Hour_of_Day', 'Speed_limit', 'Local_Authority_(District)', \n",
    "                       'Urban_or_Rural_Area', 'Year']]\n",
    "\n",
    "#  '1st_Road_Class', '1st_Road_Number'\n",
    "\n",
    "feature_name = train_col.columns.values \n",
    "\n",
    "from sklearn import ensemble \n",
    "\n",
    "model = ensemble.ExtraTreesRegressor(n_estimators=10, max_depth=30, max_features=0.3, n_jobs=-1, random_state=0)\n",
    "model.fit(train_col,train_y)\n",
    "\n",
    "#plot imp \n",
    "importance = model.feature_importances_\n",
    "std = np.std([tree.feature_importances_ for tree in model.estimators_],axis=0)\n",
    "indices = np.argsort(importance)[::-1][:20]\n",
    "\n",
    "plt.figure(figsize=(12,12))\n",
    "plt.title(\"Feature importances\")\n",
    "plt.bar(range(len(indices)), importance[indices], color=\"r\", yerr=std[indices], align=\"center\")\n",
    "plt.xticks(range(len(indices)), feature_name[indices], rotation='vertical')\n",
    "plt.xlim([-1, len(indices)])\n",
    "plt.show()"
   ]
  },
  {
   "cell_type": "markdown",
   "metadata": {},
   "source": [
    "### One Hot Encode"
   ]
  },
  {
   "cell_type": "code",
   "execution_count": 302,
   "metadata": {},
   "outputs": [],
   "source": [
    "def one_hot_encoding(df, categorical_feature):\n",
    "    dummies = pd.get_dummies(df[[categorical_feature]])\n",
    "    new_df = pd.concat([df, dummies], axis=1)\n",
    "    return new_df\n",
    "\n"
   ]
  },
  {
   "cell_type": "code",
   "execution_count": 202,
   "metadata": {},
   "outputs": [],
   "source": [
    "# acc_df = one_hot_encoding(accident_df,'Road_Surface_Conditions')\n",
    "# acc_df.drop(['Road_Surface_Conditions'],axis=1,inplace=True)\n",
    "# acc_df.drop(['Road_Surface_Conditions_Dry'],axis=1,inplace=True)\n",
    "### accident_df.drop(accident_df.columns[33], axis=1,inplace=True)\n",
    "\n",
    "\n",
    "\n",
    "\n"
   ]
  },
  {
   "cell_type": "code",
   "execution_count": 203,
   "metadata": {},
   "outputs": [],
   "source": [
    "# acc_df = one_hot_encoding(accident_df,'Road_Type')\n",
    "# acc_df.drop(['Road_Type'],axis=1,inplace=True)\n",
    "# acc_df.drop(['Road_Type_Single carriageway'],axis=1,inplace=True)\n"
   ]
  },
  {
   "cell_type": "code",
   "execution_count": 303,
   "metadata": {},
   "outputs": [],
   "source": [
    "ac_df = one_hot_encoding(accident_df,'Road_Type')\n",
    "ac_df.drop(['Road_Type'],axis=1,inplace=True)\n",
    "ac_df.drop(['Road_Type_Single carriageway'],axis=1,inplace=True)\n",
    "\n",
    "ac_df = one_hot_encoding(ac_df,'Road_Surface_Conditions')\n",
    "ac_df.drop(['Road_Surface_Conditions'],axis=1,inplace=True)\n",
    "ac_df.drop(['Road_Surface_Conditions_Dry'],axis=1,inplace=True)\n",
    "\n",
    "ac_df = one_hot_encoding(ac_df,'Pedestrian_Crossing-Physical_Facilities')\n",
    "ac_df.drop(['Pedestrian_Crossing-Physical_Facilities'],axis=1,inplace=True)\n",
    "ac_df.drop(['Pedestrian_Crossing-Physical_Facilities_No physical crossing within 50 meters'],axis=1,inplace=True)\n",
    "\n",
    "ac_df = one_hot_encoding(ac_df,'Light_Conditions')\n",
    "ac_df.drop(['Light_Conditions'],axis=1,inplace=True)\n",
    "ac_df.drop(['Light_Conditions_Daylight: Street light present'],axis=1,inplace=True)\n",
    "\n",
    "ac_df = one_hot_encoding(ac_df,'Weather_Conditions')\n",
    "ac_df.drop(['Weather_Conditions'],axis=1,inplace=True)\n",
    "ac_df.drop(['Weather_Conditions_Fine without high winds'],axis=1,inplace=True)"
   ]
  },
  {
   "cell_type": "code",
   "execution_count": 259,
   "metadata": {},
   "outputs": [
    {
     "name": "stdout",
     "output_type": "stream",
     "text": [
      "<class 'pandas.core.frame.DataFrame'>\n",
      "Int64Index: 932689 entries, 0 to 464696\n",
      "Data columns (total 57 columns):\n",
      " #   Column                                                                               Non-Null Count   Dtype  \n",
      "---  ------                                                                               --------------   -----  \n",
      " 0   Accident_Index                                                                       932689 non-null  object \n",
      " 1   Location_Easting_OSGR                                                                932689 non-null  int64  \n",
      " 2   Location_Northing_OSGR                                                               932689 non-null  int64  \n",
      " 3   Longitude                                                                            932689 non-null  float64\n",
      " 4   Latitude                                                                             932689 non-null  float64\n",
      " 5   Police_Force                                                                         932689 non-null  int64  \n",
      " 6   Accident_Severity                                                                    932689 non-null  int64  \n",
      " 7   Number_of_Vehicles                                                                   932689 non-null  int64  \n",
      " 8   Number_of_Casualties                                                                 932689 non-null  int64  \n",
      " 9   Date                                                                                 932689 non-null  object \n",
      " 10  Day_of_Week                                                                          932689 non-null  int64  \n",
      " 11  Time                                                                                 932689 non-null  object \n",
      " 12  Local_Authority_(District)                                                           932689 non-null  int64  \n",
      " 13  Local_Authority_(Highway)                                                            932689 non-null  object \n",
      " 14  1st_Road_Class                                                                       932689 non-null  int64  \n",
      " 15  1st_Road_Number                                                                      932689 non-null  int64  \n",
      " 16  Speed_limit                                                                          932689 non-null  int64  \n",
      " 17  Junction_Control                                                                     567395 non-null  object \n",
      " 18  2nd_Road_Class                                                                       932689 non-null  int64  \n",
      " 19  2nd_Road_Number                                                                      932689 non-null  int64  \n",
      " 20  Pedestrian_Crossing-Human_Control                                                    932689 non-null  object \n",
      " 21  Special_Conditions_at_Site                                                           932686 non-null  object \n",
      " 22  Carriageway_Hazards                                                                  932684 non-null  object \n",
      " 23  Urban_or_Rural_Area                                                                  932689 non-null  int64  \n",
      " 24  Did_Police_Officer_Attend_Scene_of_Accident                                          932355 non-null  object \n",
      " 25  LSOA_of_Accident_Location                                                            872030 non-null  object \n",
      " 26  Year                                                                                 932689 non-null  int64  \n",
      " 27  Hour_of_Day                                                                          932689 non-null  int64  \n",
      " 28  Rush Hour                                                                            932689 non-null  int64  \n",
      " 29  Months                                                                               932689 non-null  int64  \n",
      " 30  Weekend                                                                              932689 non-null  int64  \n",
      " 31  Road_Type_Dual carriageway                                                           932689 non-null  uint8  \n",
      " 32  Road_Type_One way street                                                             932689 non-null  uint8  \n",
      " 33  Road_Type_Roundabout                                                                 932689 non-null  uint8  \n",
      " 34  Road_Type_Slip road                                                                  932689 non-null  uint8  \n",
      " 35  Road_Type_Unknown                                                                    932689 non-null  uint8  \n",
      " 36  Road_Surface_Conditions_Flood (Over 3cm of water)                                    932689 non-null  uint8  \n",
      " 37  Road_Surface_Conditions_Frost/Ice                                                    932689 non-null  uint8  \n",
      " 38  Road_Surface_Conditions_Snow                                                         932689 non-null  uint8  \n",
      " 39  Road_Surface_Conditions_Wet/Damp                                                     932689 non-null  uint8  \n",
      " 40  Pedestrian_Crossing-Physical_Facilities_Central refuge                               932689 non-null  uint8  \n",
      " 41  Pedestrian_Crossing-Physical_Facilities_Footbridge or subway                         932689 non-null  uint8  \n",
      " 42  Pedestrian_Crossing-Physical_Facilities_Pedestrian phase at traffic signal junction  932689 non-null  uint8  \n",
      " 43  Pedestrian_Crossing-Physical_Facilities_Zebra crossing                               932689 non-null  uint8  \n",
      " 44  Pedestrian_Crossing-Physical_Facilities_non-junction pedestrian crossing             932689 non-null  uint8  \n",
      " 45  Light_Conditions_Darkeness: No street lighting                                       932689 non-null  uint8  \n",
      " 46  Light_Conditions_Darkness: Street lighting unknown                                   932689 non-null  uint8  \n",
      " 47  Light_Conditions_Darkness: Street lights present and lit                             932689 non-null  uint8  \n",
      " 48  Light_Conditions_Darkness: Street lights present but unlit                           932689 non-null  uint8  \n",
      " 49  Weather_Conditions_Fine with high winds                                              932689 non-null  uint8  \n",
      " 50  Weather_Conditions_Fog or mist                                                       932689 non-null  uint8  \n",
      " 51  Weather_Conditions_Other                                                             932689 non-null  uint8  \n",
      " 52  Weather_Conditions_Raining with high winds                                           932689 non-null  uint8  \n",
      " 53  Weather_Conditions_Raining without high winds                                        932689 non-null  uint8  \n",
      " 54  Weather_Conditions_Snowing with high winds                                           932689 non-null  uint8  \n",
      " 55  Weather_Conditions_Snowing without high winds                                        932689 non-null  uint8  \n",
      " 56  Weather_Conditions_Unknown                                                           932689 non-null  uint8  \n",
      "dtypes: float64(2), int64(19), object(10), uint8(26)\n",
      "memory usage: 250.8+ MB\n"
     ]
    }
   ],
   "source": [
    "# accident_df.columns\n",
    "ac_df.info()"
   ]
  },
  {
   "cell_type": "code",
   "execution_count": 214,
   "metadata": {},
   "outputs": [
    {
     "data": {
      "text/plain": [
       "Index(['Accident_Index', 'Location_Easting_OSGR', 'Location_Northing_OSGR',\n",
       "       'Longitude', 'Latitude', 'Police_Force', 'Accident_Severity',\n",
       "       'Number_of_Vehicles', 'Number_of_Casualties', 'Date', 'Day_of_Week',\n",
       "       'Time', 'Local_Authority_(District)', 'Local_Authority_(Highway)',\n",
       "       '1st_Road_Class', '1st_Road_Number', 'Speed_limit', 'Junction_Control',\n",
       "       '2nd_Road_Class', '2nd_Road_Number',\n",
       "       'Pedestrian_Crossing-Human_Control', 'Special_Conditions_at_Site',\n",
       "       'Carriageway_Hazards', 'Urban_or_Rural_Area',\n",
       "       'Did_Police_Officer_Attend_Scene_of_Accident',\n",
       "       'LSOA_of_Accident_Location', 'Year', 'Hour_of_Day',\n",
       "       'Road_Type_Dual carriageway', 'Road_Type_One way street',\n",
       "       'Road_Type_Roundabout', 'Road_Type_Slip road', 'Road_Type_Unknown',\n",
       "       'Road_Surface_Conditions_Flood (Over 3cm of water)',\n",
       "       'Road_Surface_Conditions_Frost/Ice', 'Road_Surface_Conditions_Snow',\n",
       "       'Road_Surface_Conditions_Wet/Damp',\n",
       "       'Pedestrian_Crossing-Physical_Facilities_Central refuge',\n",
       "       'Pedestrian_Crossing-Physical_Facilities_Footbridge or subway',\n",
       "       'Pedestrian_Crossing-Physical_Facilities_Pedestrian phase at traffic signal junction',\n",
       "       'Pedestrian_Crossing-Physical_Facilities_Zebra crossing',\n",
       "       'Pedestrian_Crossing-Physical_Facilities_non-junction pedestrian crossing',\n",
       "       'Light_Conditions_Darkeness: No street lighting',\n",
       "       'Light_Conditions_Darkness: Street lighting unknown',\n",
       "       'Light_Conditions_Darkness: Street lights present and lit',\n",
       "       'Light_Conditions_Darkness: Street lights present but unlit',\n",
       "       'Weather_Conditions_Fine with high winds',\n",
       "       'Weather_Conditions_Fog or mist', 'Weather_Conditions_Other',\n",
       "       'Weather_Conditions_Raining with high winds',\n",
       "       'Weather_Conditions_Raining without high winds',\n",
       "       'Weather_Conditions_Snowing with high winds',\n",
       "       'Weather_Conditions_Snowing without high winds',\n",
       "       'Weather_Conditions_Unknown'],\n",
       "      dtype='object')"
      ]
     },
     "execution_count": 214,
     "metadata": {},
     "output_type": "execute_result"
    }
   ],
   "source": [
    "ac_df.columns"
   ]
  },
  {
   "cell_type": "code",
   "execution_count": 136,
   "metadata": {},
   "outputs": [
    {
     "data": {
      "image/png": "[encoded data removed]",
      "text/plain": [
       "<Figure size 864x864 with 1 Axes>"
      ]
     },
     "metadata": {
      "needs_background": "light"
     },
     "output_type": "display_data"
    }
   ],
   "source": [
    "train_y = accident_df['Accident_Severity'].values\n",
    "# x_cols = [col for col in accident_df.columns if col not in ['Accident_Severity'] if accident_df[col].dtype=='float64']\n",
    "train_col= accident_df[['Road_Surface_Conditions_Dry', 'Road_Surface_Conditions_Frost/Ice',\n",
    "       'Road_Surface_Conditions_Snow', 'Road_Surface_Conditions_Wet/Damp',\n",
    "       'Road_Type_Dual carriageway', 'Road_Type_One way street',\n",
    "       'Road_Type_Roundabout', 'Road_Type_Single carriageway',\n",
    "       'Road_Type_Slip road']]\n",
    "\n",
    "#  '1st_Road_Class', '1st_Road_Number'\n",
    "\n",
    "feature_name = train_col.columns.values \n",
    "\n",
    "from sklearn import ensemble \n",
    "\n",
    "model = ensemble.ExtraTreesRegressor(n_estimators=10, max_depth=30, max_features=0.3, n_jobs=-1, random_state=0)\n",
    "model.fit(train_col,train_y)\n",
    "\n",
    "#plot imp \n",
    "importance = model.feature_importances_\n",
    "std = np.std([tree.feature_importances_ for tree in model.estimators_],axis=0)\n",
    "indices = np.argsort(importance)[::-1][:20]\n",
    "\n",
    "plt.figure(figsize=(12,12))\n",
    "plt.title(\"Feature importances\")\n",
    "plt.bar(range(len(indices)), importance[indices], color=\"r\", yerr=std[indices], align=\"center\")\n",
    "plt.xticks(range(len(indices)), feature_name[indices], rotation='vertical')\n",
    "plt.xlim([-1, len(indices)])\n",
    "plt.show()"
   ]
  },
  {
   "cell_type": "code",
   "execution_count": 196,
   "metadata": {},
   "outputs": [
    {
     "name": "stdout",
     "output_type": "stream",
     "text": [
      "<class 'pandas.core.frame.DataFrame'>\n",
      "Int64Index: 932689 entries, 0 to 464696\n",
      "Data columns (total 37 columns):\n",
      " #   Column                                       Non-Null Count   Dtype  \n",
      "---  ------                                       --------------   -----  \n",
      " 0   Accident_Index                               932689 non-null  object \n",
      " 1   Location_Easting_OSGR                        932689 non-null  int64  \n",
      " 2   Location_Northing_OSGR                       932689 non-null  int64  \n",
      " 3   Longitude                                    932689 non-null  float64\n",
      " 4   Latitude                                     932689 non-null  float64\n",
      " 5   Police_Force                                 932689 non-null  int64  \n",
      " 6   Accident_Severity                            932689 non-null  int64  \n",
      " 7   Number_of_Vehicles                           932689 non-null  int64  \n",
      " 8   Number_of_Casualties                         932689 non-null  int64  \n",
      " 9   Date                                         932689 non-null  object \n",
      " 10  Day_of_Week                                  932689 non-null  int64  \n",
      " 11  Time                                         932689 non-null  object \n",
      " 12  Local_Authority_(District)                   932689 non-null  int64  \n",
      " 13  Local_Authority_(Highway)                    932689 non-null  object \n",
      " 14  1st_Road_Class                               932689 non-null  int64  \n",
      " 15  1st_Road_Number                              932689 non-null  int64  \n",
      " 16  Speed_limit                                  932689 non-null  int64  \n",
      " 17  Junction_Control                             567395 non-null  object \n",
      " 18  2nd_Road_Class                               932689 non-null  int64  \n",
      " 19  2nd_Road_Number                              932689 non-null  int64  \n",
      " 20  Pedestrian_Crossing-Human_Control            932689 non-null  object \n",
      " 21  Pedestrian_Crossing-Physical_Facilities      932689 non-null  object \n",
      " 22  Light_Conditions                             932689 non-null  object \n",
      " 23  Weather_Conditions                           932689 non-null  object \n",
      " 24  Road_Surface_Conditions                      932689 non-null  object \n",
      " 25  Special_Conditions_at_Site                   932686 non-null  object \n",
      " 26  Carriageway_Hazards                          932684 non-null  object \n",
      " 27  Urban_or_Rural_Area                          932689 non-null  int64  \n",
      " 28  Did_Police_Officer_Attend_Scene_of_Accident  932355 non-null  object \n",
      " 29  LSOA_of_Accident_Location                    872030 non-null  object \n",
      " 30  Year                                         932689 non-null  int64  \n",
      " 31  Hour_of_Day                                  932689 non-null  object \n",
      " 32  Road_Type_Dual carriageway                   932689 non-null  uint8  \n",
      " 33  Road_Type_One way street                     932689 non-null  uint8  \n",
      " 34  Road_Type_Roundabout                         932689 non-null  uint8  \n",
      " 35  Road_Type_Slip road                          932689 non-null  uint8  \n",
      " 36  Road_Type_Unknown                            932689 non-null  uint8  \n",
      "dtypes: float64(2), int64(15), object(15), uint8(5)\n",
      "memory usage: 239.3+ MB\n"
     ]
    }
   ],
   "source": [
    "acc_df.info()"
   ]
  },
  {
   "cell_type": "code",
   "execution_count": 218,
   "metadata": {},
   "outputs": [
    {
     "data": {
      "image/png": "[encoded data removed]",
      "text/plain": [
       "<Figure size 864x864 with 1 Axes>"
      ]
     },
     "metadata": {
      "needs_background": "light"
     },
     "output_type": "display_data"
    }
   ],
   "source": [
    "# Original \n",
    "\n",
    "train_y = ac_df['Accident_Severity'].values\n",
    "# x_cols = [col for col in accident_df.columns if col not in ['Accident_Severity'] if accident_df[col].dtype=='float64']\n",
    "train_col= ac_df[['Longitude', 'Latitude','Urban_or_Rural_Area', 'Year', 'Hour_of_Day', 'Speed_limit' ,\n",
    "       'Road_Type_Dual carriageway', 'Road_Type_One way street',\n",
    "       'Road_Type_Roundabout', 'Road_Type_Slip road', 'Road_Type_Unknown',\n",
    "       'Road_Surface_Conditions_Flood (Over 3cm of water)',\n",
    "       'Road_Surface_Conditions_Frost/Ice', 'Road_Surface_Conditions_Snow',\n",
    "       'Road_Surface_Conditions_Wet/Damp',\n",
    "       'Pedestrian_Crossing-Physical_Facilities_Central refuge',\n",
    "       'Pedestrian_Crossing-Physical_Facilities_Footbridge or subway',\n",
    "       'Pedestrian_Crossing-Physical_Facilities_Pedestrian phase at traffic signal junction',\n",
    "       'Pedestrian_Crossing-Physical_Facilities_Zebra crossing',\n",
    "       'Pedestrian_Crossing-Physical_Facilities_non-junction pedestrian crossing',\n",
    "       'Light_Conditions_Darkeness: No street lighting',\n",
    "       'Light_Conditions_Darkness: Street lighting unknown',\n",
    "       'Light_Conditions_Darkness: Street lights present and lit',\n",
    "       'Light_Conditions_Darkness: Street lights present but unlit',\n",
    "       'Weather_Conditions_Fine with high winds',\n",
    "       'Weather_Conditions_Fog or mist', 'Weather_Conditions_Other',\n",
    "       'Weather_Conditions_Raining with high winds',\n",
    "       'Weather_Conditions_Raining without high winds',\n",
    "       'Weather_Conditions_Snowing with high winds',\n",
    "       'Weather_Conditions_Snowing without high winds',\n",
    "       'Weather_Conditions_Unknown']]\n",
    "\n",
    "#  '1st_Road_Class', '1st_Road_Number'\n",
    "\n",
    "feature_name = train_col.columns.values \n",
    "\n",
    "from sklearn import ensemble \n",
    "\n",
    "model = ensemble.ExtraTreesRegressor(n_estimators=30, max_depth=30, max_features=0.3, n_jobs=-1, random_state=0)\n",
    "model.fit(train_col,train_y)\n",
    "\n",
    "#plot imp \n",
    "importance = model.feature_importances_\n",
    "std = np.std([tree.feature_importances_ for tree in model.estimators_],axis=0)\n",
    "indices = np.argsort(importance)[::-1][:20]\n",
    "\n",
    "plt.figure(figsize=(12,12))\n",
    "plt.title(\"Feature importances\")\n",
    "plt.bar(range(len(indices)), importance[indices], color=\"r\", yerr=std[indices], align=\"center\")\n",
    "plt.xticks(range(len(indices)), feature_name[indices], rotation='vertical')\n",
    "plt.xlim([-1, len(indices)])\n",
    "plt.show()"
   ]
  },
  {
   "cell_type": "code",
   "execution_count": 264,
   "metadata": {},
   "outputs": [
    {
     "data": {
      "image/png": "[encoded data removed]",
      "text/plain": [
       "<Figure size 864x864 with 1 Axes>"
      ]
     },
     "metadata": {
      "needs_background": "light"
     },
     "output_type": "display_data"
    }
   ],
   "source": [
    "# UPDATED show limit without urban\n",
    "\n",
    "train_y = ac_df['Accident_Severity'].values\n",
    "# x_cols = [col for col in accident_df.columns if col not in ['Accident_Severity'] if accident_df[col].dtype=='float64']\n",
    "train_col= ac_df[[ 'Weekend','Rush Hour', 'Speed_limit' ,\n",
    "       'Road_Type_Dual carriageway', 'Road_Type_One way street',\n",
    "       'Road_Type_Roundabout', 'Road_Type_Slip road', 'Road_Type_Unknown',\n",
    "       'Road_Surface_Conditions_Flood (Over 3cm of water)',\n",
    "       'Road_Surface_Conditions_Frost/Ice', 'Road_Surface_Conditions_Snow',\n",
    "       'Road_Surface_Conditions_Wet/Damp',\n",
    "       'Pedestrian_Crossing-Physical_Facilities_Central refuge',\n",
    "       'Pedestrian_Crossing-Physical_Facilities_Footbridge or subway',\n",
    "       'Pedestrian_Crossing-Physical_Facilities_Pedestrian phase at traffic signal junction',\n",
    "       'Pedestrian_Crossing-Physical_Facilities_Zebra crossing',\n",
    "       'Pedestrian_Crossing-Physical_Facilities_non-junction pedestrian crossing',\n",
    "       'Light_Conditions_Darkeness: No street lighting',\n",
    "       'Light_Conditions_Darkness: Street lighting unknown',\n",
    "       'Light_Conditions_Darkness: Street lights present and lit',\n",
    "       'Light_Conditions_Darkness: Street lights present but unlit',\n",
    "       'Weather_Conditions_Fine with high winds',\n",
    "       'Weather_Conditions_Fog or mist', 'Weather_Conditions_Other',\n",
    "       'Weather_Conditions_Raining with high winds',\n",
    "       'Weather_Conditions_Raining without high winds',\n",
    "       'Weather_Conditions_Snowing with high winds',\n",
    "       'Weather_Conditions_Snowing without high winds',\n",
    "       'Weather_Conditions_Unknown']]\n",
    "\n",
    "#  '1st_Road_Class', '1st_Road_Number'\n",
    "\n",
    "feature_name = train_col.columns.values \n",
    "\n",
    "from sklearn import ensemble \n",
    "\n",
    "model = ensemble.ExtraTreesRegressor(n_estimators=30, max_depth=30, max_features=0.3, n_jobs=-1, random_state=0)\n",
    "model.fit(train_col,train_y)\n",
    "\n",
    "#plot imp \n",
    "importance = model.feature_importances_\n",
    "std = np.std([tree.feature_importances_ for tree in model.estimators_],axis=0)\n",
    "indices = np.argsort(importance)[::-1][:20]\n",
    "\n",
    "plt.figure(figsize=(12,12))\n",
    "plt.title(\"Feature importances\")\n",
    "plt.bar(range(len(indices)), importance[indices], color=\"r\", yerr=std[indices], align=\"center\")\n",
    "plt.xticks(range(len(indices)), feature_name[indices], rotation='vertical')\n",
    "plt.xlim([-1, len(indices)])\n",
    "plt.show()"
   ]
  },
  {
   "cell_type": "code",
   "execution_count": 265,
   "metadata": {},
   "outputs": [
    {
     "data": {
      "image/png": "[encoded data removed]",
      "text/plain": [
       "<Figure size 864x864 with 1 Axes>"
      ]
     },
     "metadata": {
      "needs_background": "light"
     },
     "output_type": "display_data"
    }
   ],
   "source": [
    "# UPDATED - show urban without speed limit\n",
    "\n",
    "train_y = ac_df['Accident_Severity'].values\n",
    "# x_cols = [col for col in accident_df.columns if col not in ['Accident_Severity'] if accident_df[col].dtype=='float64']\n",
    "train_col= ac_df[['Urban_or_Rural_Area', 'Weekend','Rush Hour',\n",
    "       'Road_Type_Dual carriageway', 'Road_Type_One way street',\n",
    "       'Road_Type_Roundabout', 'Road_Type_Slip road', 'Road_Type_Unknown',\n",
    "       'Road_Surface_Conditions_Flood (Over 3cm of water)',\n",
    "       'Road_Surface_Conditions_Frost/Ice', 'Road_Surface_Conditions_Snow',\n",
    "       'Road_Surface_Conditions_Wet/Damp',\n",
    "       'Pedestrian_Crossing-Physical_Facilities_Central refuge',\n",
    "       'Pedestrian_Crossing-Physical_Facilities_Footbridge or subway',\n",
    "       'Pedestrian_Crossing-Physical_Facilities_Pedestrian phase at traffic signal junction',\n",
    "       'Pedestrian_Crossing-Physical_Facilities_Zebra crossing',\n",
    "       'Pedestrian_Crossing-Physical_Facilities_non-junction pedestrian crossing',\n",
    "       'Light_Conditions_Darkeness: No street lighting',\n",
    "       'Light_Conditions_Darkness: Street lighting unknown',\n",
    "       'Light_Conditions_Darkness: Street lights present and lit',\n",
    "       'Light_Conditions_Darkness: Street lights present but unlit',\n",
    "       'Weather_Conditions_Fine with high winds',\n",
    "       'Weather_Conditions_Fog or mist', 'Weather_Conditions_Other',\n",
    "       'Weather_Conditions_Raining with high winds',\n",
    "       'Weather_Conditions_Raining without high winds',\n",
    "       'Weather_Conditions_Snowing with high winds',\n",
    "       'Weather_Conditions_Snowing without high winds',\n",
    "       'Weather_Conditions_Unknown']]\n",
    "\n",
    "#  '1st_Road_Class', '1st_Road_Number'\n",
    "\n",
    "feature_name = train_col.columns.values \n",
    "\n",
    "from sklearn import ensemble \n",
    "\n",
    "model = ensemble.ExtraTreesRegressor(n_estimators=30, max_depth=30, max_features=0.3, n_jobs=-1, random_state=0)\n",
    "model.fit(train_col,train_y)\n",
    "\n",
    "#plot imp \n",
    "importance = model.feature_importances_\n",
    "std = np.std([tree.feature_importances_ for tree in model.estimators_],axis=0)\n",
    "indices = np.argsort(importance)[::-1][:20]\n",
    "\n",
    "plt.figure(figsize=(12,12))\n",
    "plt.title(\"Feature importances\")\n",
    "plt.bar(range(len(indices)), importance[indices], color=\"r\", yerr=std[indices], align=\"center\")\n",
    "plt.xticks(range(len(indices)), feature_name[indices], rotation='vertical')\n",
    "plt.xlim([-1, len(indices)])\n",
    "plt.show()"
   ]
  },
  {
   "cell_type": "code",
   "execution_count": null,
   "metadata": {},
   "outputs": [],
   "source": [
    "#  Random Forest\n",
    "\n",
    "from sklearn.ensemble import RandomForestClassifier\n",
    "\n",
    "y = train_y\n",
    "X = train_col\n",
    "\n",
    "classify = RandomForestClassifier()\n",
    "\n",
    "classify.fit(X, y)\n",
    "\n",
    "y_pred = classify.predict(X)\n",
    "\n"
   ]
  },
  {
   "cell_type": "code",
   "execution_count": null,
   "metadata": {},
   "outputs": [],
   "source": [
    "y_pred_prob = classify.predict_proba(X_test)\n",
    "y_pred_prob = y_pred_prob[:,1]\n",
    "y_pred_prob\n"
   ]
  },
  {
   "cell_type": "code",
   "execution_count": null,
   "metadata": {},
   "outputs": [],
   "source": [
    "y_pred_new_thresh_rf= y_pred_prob >= .12\n",
    "\n",
    "\n",
    "print(classification_report(y_test, y_pred_new_thresh_rf))"
   ]
  },
  {
   "cell_type": "code",
   "execution_count": null,
   "metadata": {},
   "outputs": [],
   "source": [
    "#  standard scaler - do not do on target variable \n",
    "#  do scaler on one-hot encoding \n",
    "#  do it on training set not test set for predictive \n",
    "\n"
   ]
  },
  {
   "cell_type": "code",
   "execution_count": null,
   "metadata": {},
   "outputs": [],
   "source": []
  },
  {
   "cell_type": "code",
   "execution_count": null,
   "metadata": {},
   "outputs": [],
   "source": []
  },
  {
   "cell_type": "code",
   "execution_count": null,
   "metadata": {},
   "outputs": [],
   "source": []
  },
  {
   "cell_type": "code",
   "execution_count": null,
   "metadata": {},
   "outputs": [],
   "source": []
  },
  {
   "cell_type": "code",
   "execution_count": null,
   "metadata": {},
   "outputs": [],
   "source": []
  },
  {
   "cell_type": "code",
   "execution_count": null,
   "metadata": {},
   "outputs": [],
   "source": []
  },
  {
   "cell_type": "code",
   "execution_count": null,
   "metadata": {},
   "outputs": [],
   "source": []
  },
  {
   "cell_type": "code",
   "execution_count": null,
   "metadata": {},
   "outputs": [],
   "source": []
  },
  {
   "cell_type": "code",
   "execution_count": null,
   "metadata": {},
   "outputs": [],
   "source": []
  },
  {
   "cell_type": "code",
   "execution_count": 304,
   "metadata": {},
   "outputs": [],
   "source": [
    "ac_df.to_csv('../data/cleaned_data.csv')\n",
    "\n"
   ]
  },
  {
   "cell_type": "code",
   "execution_count": 305,
   "metadata": {},
   "outputs": [
    {
     "data": {
      "text/plain": [
       "(932689, 57)"
      ]
     },
     "execution_count": 305,
     "metadata": {},
     "output_type": "execute_result"
    }
   ],
   "source": [
    "ac_df.shape"
   ]
  },
  {
   "cell_type": "code",
   "execution_count": null,
   "metadata": {},
   "outputs": [],
   "source": []
  },
  {
   "cell_type": "code",
   "execution_count": null,
   "metadata": {},
   "outputs": [],
   "source": [
    "# 932689, 57"
   ]
  },
  {
   "cell_type": "code",
   "execution_count": null,
   "metadata": {},
   "outputs": [],
   "source": [
    "# 932689, 54"
   ]
  },
  {
   "cell_type": "code",
   "execution_count": null,
   "metadata": {},
   "outputs": [],
   "source": []
  },
  {
   "cell_type": "code",
   "execution_count": null,
   "metadata": {},
   "outputs": [],
   "source": []
  }
 ],
 "metadata": {
  "kernelspec": {
   "display_name": "Python 3",
   "language": "python",
   "name": "python3"
  },
  "language_info": {
   "codemirror_mode": {
    "name": "ipython",
    "version": 3
   },
   "file_extension": ".py",
   "mimetype": "text/x-python",
   "name": "python",
   "nbconvert_exporter": "python",
   "pygments_lexer": "ipython3",
   "version": "3.7.7"
  }
 },
 "nbformat": 4,
 "nbformat_minor": 4
}
