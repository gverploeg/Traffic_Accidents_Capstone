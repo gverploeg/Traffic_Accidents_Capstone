{
 "cells": [
  {
   "cell_type": "code",
   "execution_count": 1,
   "metadata": {},
   "outputs": [],
   "source": [
    "import pandas as pd\n",
    "import numpy as np\n",
    "import seaborn as sns\n",
    "import matplotlib.pyplot as plt\n",
    "\n",
    "# Read csv file into a pandas dataframe\n",
    "df = pd.read_csv('../data/cleaned_data.csv')"
   ]
  },
  {
   "cell_type": "code",
   "execution_count": 65,
   "metadata": {},
   "outputs": [],
   "source": [
    "from statsmodels.tools import add_constant\n",
    "from statsmodels.discrete.discrete_model import Logit\n",
    "\n",
    "from sklearn.datasets import make_classification\n",
    "from sklearn.linear_model import LogisticRegression\n",
    "from sklearn.model_selection import KFold, train_test_split\n",
    "from sklearn.metrics import accuracy_score, precision_score, recall_score"
   ]
  },
  {
   "cell_type": "code",
   "execution_count": 66,
   "metadata": {},
   "outputs": [
    {
     "data": {
      "text/plain": [
       "140931"
      ]
     },
     "execution_count": 66,
     "metadata": {},
     "output_type": "execute_result"
    }
   ],
   "source": [
    "sev_0 = df[(df['Accident_Severity'] == 0)]\n",
    "\n",
    "sev_1 = df[(df['Accident_Severity'] == 1)]\n",
    "\n",
    "len(sev_1)\n",
    "\n",
    "sev_0_samp = sev_0.sample(n=len(sev_1))\n",
    "\n",
    "len(sev_0_samp)\n"
   ]
  },
  {
   "cell_type": "code",
   "execution_count": 67,
   "metadata": {},
   "outputs": [],
   "source": [
    "df = pd.concat([sev_1, sev_0_samp], axis=0)\n",
    "\n"
   ]
  },
  {
   "cell_type": "code",
   "execution_count": 68,
   "metadata": {},
   "outputs": [
    {
     "data": {
      "text/plain": [
       "Accident_Severity\n",
       "0    140931\n",
       "1    140931\n",
       "Name: Accident_Index, dtype: int64"
      ]
     },
     "execution_count": 68,
     "metadata": {},
     "output_type": "execute_result"
    }
   ],
   "source": [
    "df.groupby('Accident_Severity').count()['Accident_Index']"
   ]
  },
  {
   "cell_type": "code",
   "execution_count": 83,
   "metadata": {},
   "outputs": [],
   "source": [
    "features= df[['Weekend','Urban_or_Rural_Area', 'Months', 'Rush Hour', 'Speed_limit' ,\n",
    "       'Road_Type_Dual carriageway', 'Road_Type_One way street',\n",
    "       'Road_Type_Roundabout', 'Road_Type_Slip road', 'Road_Type_Unknown',\n",
    "       'Road_Surface_Conditions_Flood (Over 3cm of water)',\n",
    "       'Road_Surface_Conditions_Frost/Ice', 'Road_Surface_Conditions_Snow',\n",
    "       'Road_Surface_Conditions_Wet/Damp',\n",
    "       'Pedestrian_Crossing-Physical_Facilities_Central refuge',\n",
    "       'Pedestrian_Crossing-Physical_Facilities_Footbridge or subway',\n",
    "       'Pedestrian_Crossing-Physical_Facilities_Pedestrian phase at traffic signal junction',\n",
    "       'Pedestrian_Crossing-Physical_Facilities_Zebra crossing',\n",
    "       'Pedestrian_Crossing-Physical_Facilities_non-junction pedestrian crossing',\n",
    "       'Light_Conditions_Darkeness: No street lighting',\n",
    "       'Light_Conditions_Darkness: Street lighting unknown',\n",
    "       'Light_Conditions_Darkness: Street lights present and lit',\n",
    "       'Light_Conditions_Darkness: Street lights present but unlit',\n",
    "       'Weather_Conditions_Fine with high winds',\n",
    "       'Weather_Conditions_Fog or mist', 'Weather_Conditions_Other',\n",
    "       'Weather_Conditions_Raining with high winds',\n",
    "       'Weather_Conditions_Raining without high winds',\n",
    "       'Weather_Conditions_Snowing with high winds',\n",
    "       'Weather_Conditions_Snowing without high winds',\n",
    "       'Weather_Conditions_Unknown']]"
   ]
  },
  {
   "cell_type": "code",
   "execution_count": 82,
   "metadata": {},
   "outputs": [
    {
     "name": "stdout",
     "output_type": "stream",
     "text": [
      "                                              feature        VIF\n",
      "0                                             Weekend   1.384426\n",
      "1                                 Urban_or_Rural_Area   5.591669\n",
      "2                                            Latitude  34.311169\n",
      "3                                           Rush Hour   2.035955\n",
      "4                                         Speed_limit  21.472523\n",
      "5                          Road_Type_Dual carriageway   1.463653\n",
      "6                            Road_Type_One way street   1.033225\n",
      "7                                Road_Type_Roundabout   1.089463\n",
      "8                                 Road_Type_Slip road   1.031209\n",
      "9                                   Road_Type_Unknown   1.008895\n",
      "10  Road_Surface_Conditions_Flood (Over 3cm of water)   1.024319\n",
      "11                  Road_Surface_Conditions_Frost/Ice   1.163751\n",
      "12                       Road_Surface_Conditions_Snow   1.820415\n",
      "13                   Road_Surface_Conditions_Wet/Damp   2.393706\n",
      "14  Pedestrian_Crossing-Physical_Facilities_Centra...   1.038467\n",
      "15  Pedestrian_Crossing-Physical_Facilities_Footbr...   1.009427\n",
      "16  Pedestrian_Crossing-Physical_Facilities_Pedest...   1.148569\n",
      "17  Pedestrian_Crossing-Physical_Facilities_Zebra ...   1.055642\n",
      "18  Pedestrian_Crossing-Physical_Facilities_non-ju...   1.116955\n",
      "19     Light_Conditions_Darkeness: No street lighting   1.261668\n",
      "20  Light_Conditions_Darkness: Street lighting unk...   1.031784\n",
      "21  Light_Conditions_Darkness: Street lights prese...   1.401687\n",
      "22  Light_Conditions_Darkness: Street lights prese...   1.008401\n",
      "23            Weather_Conditions_Fine with high winds   1.020346\n",
      "24                     Weather_Conditions_Fog or mist   1.028818\n",
      "25                           Weather_Conditions_Other   1.133137\n",
      "26         Weather_Conditions_Raining with high winds   1.105436\n",
      "27      Weather_Conditions_Raining without high winds   1.790738\n",
      "28         Weather_Conditions_Snowing with high winds   1.149933\n",
      "29      Weather_Conditions_Snowing without high winds   1.689512\n",
      "30                         Weather_Conditions_Unknown   1.036368\n"
     ]
    }
   ],
   "source": [
    "#  Variance Inflation Factors - play with longitude\n",
    "\n",
    "#  Cannot do Latitude\n",
    "\n",
    "from statsmodels.stats.outliers_influence import variance_inflation_factor \n",
    "\n",
    "\n",
    "featuress= df[['Weekend','Urban_or_Rural_Area', 'Latitude', 'Rush Hour', 'Speed_limit' ,\n",
    "       'Road_Type_Dual carriageway', 'Road_Type_One way street',\n",
    "       'Road_Type_Roundabout', 'Road_Type_Slip road', 'Road_Type_Unknown',\n",
    "       'Road_Surface_Conditions_Flood (Over 3cm of water)',\n",
    "       'Road_Surface_Conditions_Frost/Ice', 'Road_Surface_Conditions_Snow',\n",
    "       'Road_Surface_Conditions_Wet/Damp',\n",
    "       'Pedestrian_Crossing-Physical_Facilities_Central refuge',\n",
    "       'Pedestrian_Crossing-Physical_Facilities_Footbridge or subway',\n",
    "       'Pedestrian_Crossing-Physical_Facilities_Pedestrian phase at traffic signal junction',\n",
    "       'Pedestrian_Crossing-Physical_Facilities_Zebra crossing',\n",
    "       'Pedestrian_Crossing-Physical_Facilities_non-junction pedestrian crossing',\n",
    "       'Light_Conditions_Darkeness: No street lighting',\n",
    "       'Light_Conditions_Darkness: Street lighting unknown',\n",
    "       'Light_Conditions_Darkness: Street lights present and lit',\n",
    "       'Light_Conditions_Darkness: Street lights present but unlit',\n",
    "       'Weather_Conditions_Fine with high winds',\n",
    "       'Weather_Conditions_Fog or mist', 'Weather_Conditions_Other',\n",
    "       'Weather_Conditions_Raining with high winds',\n",
    "       'Weather_Conditions_Raining without high winds',\n",
    "       'Weather_Conditions_Snowing with high winds',\n",
    "       'Weather_Conditions_Snowing without high winds',\n",
    "       'Weather_Conditions_Unknown']]\n",
    "\n",
    "# VIF dataframe \n",
    "vif_data = pd.DataFrame() \n",
    "vif_data[\"feature\"] = featuress.columns\n",
    "  \n",
    "# calculating VIF for each feature \n",
    "vif_data[\"VIF\"] = [variance_inflation_factor(featuress.values, i) \n",
    "                          for i in range(len(featuress.columns))] \n",
    "  \n",
    "print(vif_data)"
   ]
  },
  {
   "cell_type": "code",
   "execution_count": 84,
   "metadata": {},
   "outputs": [
    {
     "name": "stdout",
     "output_type": "stream",
     "text": [
      "<class 'pandas.core.frame.DataFrame'>\n",
      "Int64Index: 281862 entries, 0 to 519430\n",
      "Data columns (total 31 columns):\n",
      " #   Column                                                                               Non-Null Count   Dtype\n",
      "---  ------                                                                               --------------   -----\n",
      " 0   Weekend                                                                              281862 non-null  int64\n",
      " 1   Urban_or_Rural_Area                                                                  281862 non-null  int64\n",
      " 2   Months                                                                               281862 non-null  int64\n",
      " 3   Rush Hour                                                                            281862 non-null  int64\n",
      " 4   Speed_limit                                                                          281862 non-null  int64\n",
      " 5   Road_Type_Dual carriageway                                                           281862 non-null  int64\n",
      " 6   Road_Type_One way street                                                             281862 non-null  int64\n",
      " 7   Road_Type_Roundabout                                                                 281862 non-null  int64\n",
      " 8   Road_Type_Slip road                                                                  281862 non-null  int64\n",
      " 9   Road_Type_Unknown                                                                    281862 non-null  int64\n",
      " 10  Road_Surface_Conditions_Flood (Over 3cm of water)                                    281862 non-null  int64\n",
      " 11  Road_Surface_Conditions_Frost/Ice                                                    281862 non-null  int64\n",
      " 12  Road_Surface_Conditions_Snow                                                         281862 non-null  int64\n",
      " 13  Road_Surface_Conditions_Wet/Damp                                                     281862 non-null  int64\n",
      " 14  Pedestrian_Crossing-Physical_Facilities_Central refuge                               281862 non-null  int64\n",
      " 15  Pedestrian_Crossing-Physical_Facilities_Footbridge or subway                         281862 non-null  int64\n",
      " 16  Pedestrian_Crossing-Physical_Facilities_Pedestrian phase at traffic signal junction  281862 non-null  int64\n",
      " 17  Pedestrian_Crossing-Physical_Facilities_Zebra crossing                               281862 non-null  int64\n",
      " 18  Pedestrian_Crossing-Physical_Facilities_non-junction pedestrian crossing             281862 non-null  int64\n",
      " 19  Light_Conditions_Darkeness: No street lighting                                       281862 non-null  int64\n",
      " 20  Light_Conditions_Darkness: Street lighting unknown                                   281862 non-null  int64\n",
      " 21  Light_Conditions_Darkness: Street lights present and lit                             281862 non-null  int64\n",
      " 22  Light_Conditions_Darkness: Street lights present but unlit                           281862 non-null  int64\n",
      " 23  Weather_Conditions_Fine with high winds                                              281862 non-null  int64\n",
      " 24  Weather_Conditions_Fog or mist                                                       281862 non-null  int64\n",
      " 25  Weather_Conditions_Other                                                             281862 non-null  int64\n",
      " 26  Weather_Conditions_Raining with high winds                                           281862 non-null  int64\n",
      " 27  Weather_Conditions_Raining without high winds                                        281862 non-null  int64\n",
      " 28  Weather_Conditions_Snowing with high winds                                           281862 non-null  int64\n",
      " 29  Weather_Conditions_Snowing without high winds                                        281862 non-null  int64\n",
      " 30  Weather_Conditions_Unknown                                                           281862 non-null  int64\n",
      "dtypes: int64(31)\n",
      "memory usage: 68.8 MB\n"
     ]
    }
   ],
   "source": [
    "features.info()"
   ]
  },
  {
   "cell_type": "code",
   "execution_count": 77,
   "metadata": {},
   "outputs": [
    {
     "name": "stdout",
     "output_type": "stream",
     "text": [
      "Optimization terminated successfully.\n",
      "         Current function value: 0.678717\n",
      "         Iterations 4\n",
      "                          Results: Logit\n",
      "==================================================================\n",
      "Model:              Logit            Pseudo R-squared: 0.021      \n",
      "Dependent Variable: y                AIC:              382671.0817\n",
      "Date:               2020-12-03 15:34 BIC:              382998.1060\n",
      "No. Observations:   281862           Log-Likelihood:   -1.9130e+05\n",
      "Df Model:           30               LL-Null:          -1.9537e+05\n",
      "Df Residuals:       281831           LLR p-value:      0.0000     \n",
      "Converged:          1.0000           Scale:            1.0000     \n",
      "No. Iterations:     4.0000                                        \n",
      "--------------------------------------------------------------------\n",
      "           Coef.    Std.Err.      z       P>|z|     [0.025    0.975]\n",
      "--------------------------------------------------------------------\n",
      "x1         0.1502     0.0088    17.0217   0.0000    0.1329    0.1675\n",
      "x2        -0.3130     0.0078   -39.9434   0.0000   -0.3283   -0.2976\n",
      "x3        -0.0053     0.0011    -4.8824   0.0000   -0.0074   -0.0032\n",
      "x4        -0.0920     0.0077   -11.9977   0.0000   -0.1071   -0.0770\n",
      "x5         0.0079     0.0002    37.3348   0.0000    0.0075    0.0083\n",
      "x6        -0.3554     0.0120   -29.6662   0.0000   -0.3789   -0.3319\n",
      "x7        -0.0610     0.0281    -2.1725   0.0298   -0.1160   -0.0060\n",
      "x8        -0.6305     0.0170   -37.1027   0.0000   -0.6638   -0.5972\n",
      "x9        -0.7660     0.0423   -18.0886   0.0000   -0.8490   -0.6830\n",
      "x10       -0.3302     0.0617    -5.3493   0.0000   -0.4513   -0.2092\n",
      "x11       -0.2940     0.0990    -2.9694   0.0030   -0.4880   -0.0999\n",
      "x12       -0.3965     0.0272   -14.5685   0.0000   -0.4498   -0.3432\n",
      "x13       -0.4449     0.0587    -7.5846   0.0000   -0.5599   -0.3299\n",
      "x14       -0.0747     0.0114    -6.5729   0.0000   -0.0970   -0.0524\n",
      "x15        0.3773     0.0264    14.3132   0.0000    0.3256    0.4289\n",
      "x16        0.1087     0.0713     1.5245   0.1274   -0.0310    0.2485\n",
      "x17       -0.0631     0.0158    -3.9833   0.0001   -0.0941   -0.0320\n",
      "x18       -0.0043     0.0234    -0.1816   0.8559   -0.0502    0.0417\n",
      "x19        0.2117     0.0168    12.5669   0.0000    0.1787    0.2447\n",
      "x20        0.3501     0.0174    20.1032   0.0000    0.3159    0.3842\n",
      "x21        0.0696     0.0354     1.9654   0.0494    0.0002    0.1389\n",
      "x22        0.2647     0.0101    26.3069   0.0000    0.2449    0.2844\n",
      "x23        0.3016     0.0558     5.4078   0.0000    0.1923    0.4109\n",
      "x24       -0.0024     0.0353    -0.0685   0.9454   -0.0716    0.0668\n",
      "x25       -0.1545     0.0527    -2.9299   0.0034   -0.2579   -0.0512\n",
      "x26       -0.2315     0.0290    -7.9813   0.0000   -0.2884   -0.1747\n",
      "x27       -0.1732     0.0343    -5.0508   0.0000   -0.2403   -0.1060\n",
      "x28       -0.1649     0.0154   -10.7302   0.0000   -0.1950   -0.1348\n",
      "x29       -0.3280     0.1108    -2.9613   0.0031   -0.5451   -0.1109\n",
      "x30       -0.3365     0.0568    -5.9209   0.0000   -0.4479   -0.2251\n",
      "x31       -0.3466     0.0321   -10.7820   0.0000   -0.4095   -0.2836\n",
      "==================================================================\n",
      "\n"
     ]
    }
   ],
   "source": [
    "X = features.values\n",
    "\n",
    "target = df['Accident_Severity']\n",
    "y = target.values\n",
    "\n",
    "logit_model = Logit(y, X).fit()\n",
    "\n",
    "print(logit_model.summary2())\n",
    "\n",
    "# YESS"
   ]
  },
  {
   "cell_type": "code",
   "execution_count": 78,
   "metadata": {},
   "outputs": [
    {
     "data": {
      "text/plain": [
       "array([1.16205125, 0.7312771 , 0.99474549, 0.91208851, 1.00790217,\n",
       "       0.70091009, 0.94085839, 0.53234117, 0.46485971, 0.71874493,\n",
       "       0.74528407, 0.6726745 , 0.64088943, 0.92800535, 1.45831105,\n",
       "       1.11483368, 0.93887466, 0.99575359, 1.2357798 , 1.41917725,\n",
       "       1.07203126, 1.30298271, 1.35199092, 0.99758566, 0.85682738,\n",
       "       0.79333289, 0.84100977, 0.8479834 , 0.72034494, 0.71425085,\n",
       "       0.70712313])"
      ]
     },
     "execution_count": 78,
     "metadata": {},
     "output_type": "execute_result"
    }
   ],
   "source": [
    "np.exp(logit_model.params)\n",
    "\n"
   ]
  },
  {
   "cell_type": "code",
   "execution_count": 80,
   "metadata": {},
   "outputs": [
    {
     "data": {
      "text/plain": [
       "array([[-0.65977133],\n",
       "       [-0.65977133],\n",
       "       [-0.65977133],\n",
       "       ...,\n",
       "       [-0.65977133],\n",
       "       [-0.65977133],\n",
       "       [-0.65977133]])"
      ]
     },
     "execution_count": 80,
     "metadata": {},
     "output_type": "execute_result"
    }
   ],
   "source": [
    "#  Standardize \n",
    "\n",
    "speed = features['Speed_limit'].to_frame()\n",
    "\n",
    "from sklearn.preprocessing import StandardScaler\n",
    "scaler = StandardScaler()\n",
    "speed = scaler.fit_transform(speed)\n",
    "\n",
    "cols_new = features.copy()\n",
    "\n",
    "cols_new.drop('Speed_limit', axis=1, inplace=True)\n",
    "cols_new.drop('Months', axis=1, inplace=True)\n",
    "\n",
    "cols_new['Speed_limit'] = speed\n",
    "\n",
    "speed"
   ]
  },
  {
   "cell_type": "code",
   "execution_count": 30,
   "metadata": {},
   "outputs": [
    {
     "name": "stdout",
     "output_type": "stream",
     "text": [
      "                                              feature       VIF\n",
      "0                                             Weekend  1.248488\n",
      "1                                 Urban_or_Rural_Area  3.161849\n",
      "2                                           Rush Hour  1.715163\n",
      "3                          Road_Type_Dual carriageway  1.503359\n",
      "4                            Road_Type_One way street  1.031596\n",
      "5                                Road_Type_Roundabout  1.089500\n",
      "6                                 Road_Type_Slip road  1.037765\n",
      "7                                   Road_Type_Unknown  1.008065\n",
      "8   Road_Surface_Conditions_Flood (Over 3cm of water)  1.026055\n",
      "9                   Road_Surface_Conditions_Frost/Ice  1.174023\n",
      "10                       Road_Surface_Conditions_Snow  1.869633\n",
      "11                   Road_Surface_Conditions_Wet/Damp  2.382377\n",
      "12  Pedestrian_Crossing-Physical_Facilities_Centra...  1.033232\n",
      "13  Pedestrian_Crossing-Physical_Facilities_Footbr...  1.010035\n",
      "14  Pedestrian_Crossing-Physical_Facilities_Pedest...  1.149937\n",
      "15  Pedestrian_Crossing-Physical_Facilities_Zebra ...  1.053933\n",
      "16  Pedestrian_Crossing-Physical_Facilities_non-ju...  1.104636\n",
      "17     Light_Conditions_Darkeness: No street lighting  1.184375\n",
      "18  Light_Conditions_Darkness: Street lighting unk...  1.030935\n",
      "19  Light_Conditions_Darkness: Street lights prese...  1.352531\n",
      "20  Light_Conditions_Darkness: Street lights prese...  1.006939\n",
      "21            Weather_Conditions_Fine with high winds  1.018110\n",
      "22                     Weather_Conditions_Fog or mist  1.029104\n",
      "23                           Weather_Conditions_Other  1.141858\n",
      "24         Weather_Conditions_Raining with high winds  1.110167\n",
      "25      Weather_Conditions_Raining without high winds  1.851873\n",
      "26         Weather_Conditions_Snowing with high winds  1.147803\n",
      "27      Weather_Conditions_Snowing without high winds  1.748596\n",
      "28                         Weather_Conditions_Unknown  1.039128\n",
      "29                                        Speed_limit  2.086813\n"
     ]
    }
   ],
   "source": [
    "from statsmodels.stats.outliers_influence import variance_inflation_factor \n",
    "  \n",
    "\n",
    "# VIF dataframe \n",
    "vif_data = pd.DataFrame() \n",
    "vif_data[\"feature\"] = cols_new.columns\n",
    "  \n",
    "# calculating VIF for each feature \n",
    "vif_data[\"VIF\"] = [variance_inflation_factor(cols_new.values, i) \n",
    "                          for i in range(len(cols_new.columns))] \n",
    "  \n",
    "print(vif_data)"
   ]
  },
  {
   "cell_type": "code",
   "execution_count": 85,
   "metadata": {},
   "outputs": [
    {
     "name": "stdout",
     "output_type": "stream",
     "text": [
      "Optimization terminated successfully.\n",
      "         Current function value: 0.679429\n",
      "         Iterations 4\n",
      "                          Results: Logit\n",
      "==================================================================\n",
      "Model:              Logit            Pseudo R-squared: 0.020      \n",
      "Dependent Variable: y                AIC:              383070.2290\n",
      "Date:               2020-12-03 21:22 BIC:              383386.7042\n",
      "No. Observations:   281862           Log-Likelihood:   -1.9151e+05\n",
      "Df Model:           29               LL-Null:          -1.9537e+05\n",
      "Df Residuals:       281832           LLR p-value:      0.0000     \n",
      "Converged:          1.0000           Scale:            1.0000     \n",
      "No. Iterations:     4.0000                                        \n",
      "--------------------------------------------------------------------\n",
      "           Coef.    Std.Err.      z       P>|z|     [0.025    0.975]\n",
      "--------------------------------------------------------------------\n",
      "x1         0.2147     0.0085    25.3509   0.0000    0.1981    0.2313\n",
      "x2        -0.0736     0.0086    -8.5259   0.0000   -0.0905   -0.0567\n",
      "x3        -0.0080     0.0070    -1.1358   0.2561   -0.0218    0.0058\n",
      "x4        -0.3767     0.0125   -30.1062   0.0000   -0.4012   -0.3522\n",
      "x5        -0.0252     0.0281    -0.8981   0.3691   -0.0802    0.0298\n",
      "x6        -0.5840     0.0169   -34.5929   0.0000   -0.6171   -0.5509\n",
      "x7        -0.7694     0.0425   -18.0861   0.0000   -0.8528   -0.6860\n",
      "x8        -0.2707     0.0617    -4.3871   0.0000   -0.3916   -0.1498\n",
      "x9        -0.2451     0.0990    -2.4749   0.0133   -0.4392   -0.0510\n",
      "x10       -0.3475     0.0271   -12.8022   0.0000   -0.4007   -0.2943\n",
      "x11       -0.3855     0.0586    -6.5751   0.0000   -0.5004   -0.2706\n",
      "x12       -0.0294     0.0112    -2.6290   0.0086   -0.0513   -0.0075\n",
      "x13        0.4124     0.0263    15.6692   0.0000    0.3608    0.4640\n",
      "x14        0.1115     0.0712     1.5656   0.1174   -0.0281    0.2511\n",
      "x15       -0.0391     0.0159    -2.4636   0.0138   -0.0702   -0.0080\n",
      "x16        0.0253     0.0234     1.0797   0.2803   -0.0206    0.0712\n",
      "x17        0.2373     0.0169    14.0743   0.0000    0.2043    0.2703\n",
      "x18        0.4213     0.0170    24.7358   0.0000    0.3879    0.4546\n",
      "x19        0.1217     0.0353     3.4500   0.0006    0.0526    0.1909\n",
      "x20        0.2960     0.0100    29.5684   0.0000    0.2764    0.3157\n",
      "x21        0.3553     0.0556     6.3885   0.0000    0.2463    0.4643\n",
      "x22        0.0346     0.0353     0.9813   0.3265   -0.0345    0.1037\n",
      "x23       -0.1348     0.0527    -2.5576   0.0105   -0.2382   -0.0315\n",
      "x24       -0.2201     0.0290    -7.5871   0.0000   -0.2769   -0.1632\n",
      "x25       -0.1837     0.0343    -5.3596   0.0000   -0.2509   -0.1165\n",
      "x26       -0.1669     0.0154   -10.8642   0.0000   -0.1970   -0.1368\n",
      "x27       -0.3211     0.1109    -2.8963   0.0038   -0.5384   -0.1038\n",
      "x28       -0.3294     0.0568    -5.7950   0.0000   -0.4408   -0.2180\n",
      "x29       -0.3105     0.0321    -9.6682   0.0000   -0.3735   -0.2476\n",
      "x30        0.2074     0.0056    37.0394   0.0000    0.1964    0.2184\n",
      "==================================================================\n",
      "\n"
     ]
    }
   ],
   "source": [
    "X = cols_new.values\n",
    "y = df['Accident_Severity'].values\n",
    "logit_model = Logit(y, X).fit()\n",
    "                             \n",
    "print(logit_model.summary2())                             \n",
    "\n",
    "# Standarized"
   ]
  },
  {
   "cell_type": "code",
   "execution_count": 86,
   "metadata": {},
   "outputs": [
    {
     "data": {
      "text/plain": [
       "array([1.23953795, 0.92902057, 0.99204049, 0.68612666, 0.97511942,\n",
       "       0.55765684, 0.4633005 , 0.76284621, 0.78260843, 0.70646045,\n",
       "       0.68009547, 0.97104571, 1.51048968, 1.11797058, 0.96167637,\n",
       "       1.02560943, 1.26781883, 1.52389143, 1.1294698 , 1.34452434,\n",
       "       1.42661834, 1.03519815, 0.87385184, 0.8024707 , 0.83219029,\n",
       "       0.84629945, 0.72532919, 0.71938335, 0.73305081, 1.23048576])"
      ]
     },
     "execution_count": 86,
     "metadata": {},
     "output_type": "execute_result"
    }
   ],
   "source": [
    "#  For standarized\n",
    "np.exp(logit_model.params)\n"
   ]
  },
  {
   "cell_type": "code",
   "execution_count": 71,
   "metadata": {},
   "outputs": [
    {
     "name": "stdout",
     "output_type": "stream",
     "text": [
      "Optimization terminated successfully.\n",
      "         Current function value: 0.681877\n",
      "         Iterations 4\n",
      "                          Results: Logit\n",
      "==================================================================\n",
      "Model:              Logit            Pseudo R-squared: 0.016      \n",
      "Dependent Variable: y                AIC:              384448.5489\n",
      "Date:               2020-12-03 11:50 BIC:              384754.4749\n",
      "No. Observations:   281862           Log-Likelihood:   -1.9220e+05\n",
      "Df Model:           28               LL-Null:          -1.9537e+05\n",
      "Df Residuals:       281833           LLR p-value:      0.0000     \n",
      "Converged:          1.0000           Scale:            1.0000     \n",
      "No. Iterations:     4.0000                                        \n",
      "--------------------------------------------------------------------\n",
      "           Coef.    Std.Err.      z       P>|z|     [0.025    0.975]\n",
      "--------------------------------------------------------------------\n",
      "x1         0.2632     0.0083    31.5394   0.0000    0.2468    0.2795\n",
      "x2        -0.2539     0.0071   -35.5597   0.0000   -0.2679   -0.2399\n",
      "x3         0.0441     0.0069     6.4099   0.0000    0.0306    0.0576\n",
      "x4        -0.1572     0.0109   -14.3659   0.0000   -0.1786   -0.1358\n",
      "x5        -0.0317     0.0281    -1.1310   0.2580   -0.0867    0.0233\n",
      "x6        -0.5286     0.0168   -31.5381   0.0000   -0.5615   -0.4958\n",
      "x7        -0.5364     0.0418   -12.8196   0.0000   -0.6184   -0.4544\n",
      "x8        -0.2646     0.0616    -4.2973   0.0000   -0.3853   -0.1439\n",
      "x9        -0.1365     0.0990    -1.3791   0.1679   -0.3305    0.0575\n",
      "x10       -0.2839     0.0270   -10.5068   0.0000   -0.3368   -0.2309\n",
      "x11       -0.3277     0.0585    -5.6030   0.0000   -0.4423   -0.2131\n",
      "x12        0.0141     0.0111     1.2720   0.2034   -0.0076    0.0358\n",
      "x13        0.3966     0.0263    15.0969   0.0000    0.3451    0.4481\n",
      "x14        0.0962     0.0710     1.3551   0.1754   -0.0430    0.2354\n",
      "x15       -0.0769     0.0158    -4.8672   0.0000   -0.1079   -0.0460\n",
      "x16        0.0012     0.0234     0.0518   0.9587   -0.0446    0.0471\n",
      "x17        0.2021     0.0168    12.0216   0.0000    0.1692    0.2351\n",
      "x18        0.5797     0.0164    35.2442   0.0000    0.5475    0.6120\n",
      "x19        0.1275     0.0352     3.6208   0.0003    0.0585    0.1965\n",
      "x20        0.2824     0.0100    28.2767   0.0000    0.2628    0.3020\n",
      "x21        0.3648     0.0555     6.5756   0.0000    0.2560    0.4735\n",
      "x22        0.0688     0.0351     1.9572   0.0503   -0.0001    0.1376\n",
      "x23       -0.0888     0.0526    -1.6862   0.0918   -0.1919    0.0144\n",
      "x24       -0.2220     0.0289    -7.6725   0.0000   -0.2787   -0.1653\n",
      "x25       -0.1772     0.0342    -5.1808   0.0000   -0.2443   -0.1102\n",
      "x26       -0.1684     0.0153   -10.9900   0.0000   -0.1984   -0.1384\n",
      "x27       -0.2967     0.1107    -2.6801   0.0074   -0.5136   -0.0797\n",
      "x28       -0.3285     0.0567    -5.7906   0.0000   -0.4397   -0.2173\n",
      "x29       -0.3067     0.0321    -9.5655   0.0000   -0.3696   -0.2439\n",
      "==================================================================\n",
      "\n"
     ]
    }
   ],
   "source": [
    "# NON- Standard without Speedlimit and Months\n",
    "\n",
    "features= df[['Weekend','Urban_or_Rural_Area', 'Rush Hour' ,\n",
    "       'Road_Type_Dual carriageway', 'Road_Type_One way street',\n",
    "       'Road_Type_Roundabout', 'Road_Type_Slip road', 'Road_Type_Unknown',\n",
    "       'Road_Surface_Conditions_Flood (Over 3cm of water)',\n",
    "       'Road_Surface_Conditions_Frost/Ice', 'Road_Surface_Conditions_Snow',\n",
    "       'Road_Surface_Conditions_Wet/Damp',\n",
    "       'Pedestrian_Crossing-Physical_Facilities_Central refuge',\n",
    "       'Pedestrian_Crossing-Physical_Facilities_Footbridge or subway',\n",
    "       'Pedestrian_Crossing-Physical_Facilities_Pedestrian phase at traffic signal junction',\n",
    "       'Pedestrian_Crossing-Physical_Facilities_Zebra crossing',\n",
    "       'Pedestrian_Crossing-Physical_Facilities_non-junction pedestrian crossing',\n",
    "       'Light_Conditions_Darkeness: No street lighting',\n",
    "       'Light_Conditions_Darkness: Street lighting unknown',\n",
    "       'Light_Conditions_Darkness: Street lights present and lit',\n",
    "       'Light_Conditions_Darkness: Street lights present but unlit',\n",
    "       'Weather_Conditions_Fine with high winds',\n",
    "       'Weather_Conditions_Fog or mist', 'Weather_Conditions_Other',\n",
    "       'Weather_Conditions_Raining with high winds',\n",
    "       'Weather_Conditions_Raining without high winds',\n",
    "       'Weather_Conditions_Snowing with high winds',\n",
    "       'Weather_Conditions_Snowing without high winds',\n",
    "       'Weather_Conditions_Unknown']]\n",
    "\n",
    "X = features.values\n",
    "y = df['Accident_Severity'].values\n",
    "logit_model = Logit(y, X).fit()\n",
    "                             \n",
    "print(logit_model.summary2())                             \n"
   ]
  },
  {
   "cell_type": "code",
   "execution_count": 72,
   "metadata": {},
   "outputs": [
    {
     "name": "stdout",
     "output_type": "stream",
     "text": [
      "Optimization terminated successfully.\n",
      "         Current function value: 0.688958\n",
      "         Iterations 4\n",
      "                          Results: Logit\n",
      "==================================================================\n",
      "Model:              Logit            Pseudo R-squared: 0.006      \n",
      "Dependent Variable: y                AIC:              388388.1693\n",
      "Date:               2020-12-03 11:50 BIC:              388419.8168\n",
      "No. Observations:   281862           Log-Likelihood:   -1.9419e+05\n",
      "Df Model:           2                LL-Null:          -1.9537e+05\n",
      "Df Residuals:       281859           LLR p-value:      0.0000     \n",
      "Converged:          1.0000           Scale:            1.0000     \n",
      "No. Iterations:     4.0000                                        \n",
      "---------------------------------------------------------------------\n",
      "       Coef.     Std.Err.       z        P>|z|      [0.025     0.975]\n",
      "---------------------------------------------------------------------\n",
      "x1     0.2922      0.0081     36.1993    0.0000     0.2764     0.3080\n",
      "x2    -0.2293      0.0060    -38.1014    0.0000    -0.2411    -0.2175\n",
      "x3     0.0140      0.0065      2.1389    0.0324     0.0012     0.0268\n",
      "==================================================================\n",
      "\n"
     ]
    }
   ],
   "source": [
    "# NON- Standard without Weather\n",
    "\n",
    "features= df[['Weekend','Urban_or_Rural_Area', 'Rush Hour']]\n",
    "\n",
    "X = features.values\n",
    "y = df['Accident_Severity'].values\n",
    "logit_model = Logit(y, X).fit()\n",
    "                             \n",
    "print(logit_model.summary2())                             \n"
   ]
  },
  {
   "cell_type": "markdown",
   "metadata": {},
   "source": [
    "### Try Random Forest"
   ]
  },
  {
   "cell_type": "code",
   "execution_count": 36,
   "metadata": {},
   "outputs": [],
   "source": [
    "y = df['Accident_Severity'].values\n",
    "# x_cols = [col for col in accident_df.columns if col not in ['Accident_Severity'] if accident_df[col].dtype=='float64']\n",
    "X= features"
   ]
  },
  {
   "cell_type": "code",
   "execution_count": 40,
   "metadata": {},
   "outputs": [
    {
     "data": {
      "text/plain": [
       "RandomForestClassifier(class_weight='balanced', random_state=0)"
      ]
     },
     "execution_count": 40,
     "metadata": {},
     "output_type": "execute_result"
    }
   ],
   "source": [
    "from sklearn.ensemble import RandomForestClassifier\n",
    "\n",
    "classify = RandomForestClassifier(random_state=0, class_weight=\"balanced\")\n",
    "\n",
    "classify.fit(X, y)\n"
   ]
  },
  {
   "cell_type": "code",
   "execution_count": 41,
   "metadata": {},
   "outputs": [],
   "source": [
    "y_pred = classify.predict(X)"
   ]
  },
  {
   "cell_type": "code",
   "execution_count": null,
   "metadata": {},
   "outputs": [],
   "source": []
  },
  {
   "cell_type": "code",
   "execution_count": 32,
   "metadata": {},
   "outputs": [],
   "source": [
    "from sklearn.utils.class_weight import compute_class_weight\n",
    "\n",
    "classes=[1,2]\n",
    "\n",
    "cw = compute_class_weight('balanced', classes, y)\n",
    "cw"
   ]
  },
  {
   "cell_type": "code",
   "execution_count": 33,
   "metadata": {},
   "outputs": [],
   "source": [
    "y_2 = np.ones(735) + 1"
   ]
  },
  {
   "cell_type": "code",
   "execution_count": null,
   "metadata": {},
   "outputs": [],
   "source": []
  },
  {
   "cell_type": "code",
   "execution_count": 32,
   "metadata": {},
   "outputs": [
    {
     "data": {
      "image/png": "[encoded data removed]",
      "text/plain": [
       "<Figure size 1080x288 with 1 Axes>"
      ]
     },
     "metadata": {
      "needs_background": "light"
     },
     "output_type": "display_data"
    }
   ],
   "source": [
    "import pandas as pd\n",
    "import matplotlib.pyplot as plt\n",
    "plt.rcParams[\"figure.figsize\"] = (15,4)\n",
    "\n",
    "coef = pd.DataFrame([[-0.769], [-0.584], [0.421], [-0.385], [-0.376]],\n",
    "                    index=['Road Type - Slip Road', 'Road Type - Roundabout',\n",
    "                     'Light Conditions - Dark with No street lighting', 'Road Surface Conditions - Frost/Ice',\n",
    "                     'Road Type - Dual Carriageway'],\n",
    "                    columns=['values'])\n",
    "    \n",
    "coef['positive'] = coef['values'] > 0\n",
    "    \n",
    "coef['values'].plot(kind='barh',\n",
    "                             color=coef.positive.map({True: 'tomato', False: 'royalblue'}))\n",
    "plt.yticks(fontsize = 20)\n",
    "plt.xticks(fontsize = 20)\n",
    "plt.tight_layout()\n",
    "coef.sort_values('values',inplace=True, ascending=True)\n",
    "\n",
    "# plt.savefig('../images/coeffs.png', dpi=600)"
   ]
  },
  {
   "cell_type": "code",
   "execution_count": 6,
   "metadata": {},
   "outputs": [],
   "source": [
    "def plot_preds(preds):\n",
    "   \n",
    "\n",
    "    plt.figure()\n",
    "    labels = ('Road Type - Slip Road', 'Road Type - Roundabout',\n",
    "                     'Light Conditions - Dark with No street lighting', 'Road Surface Conditions - Frost/Ice',\n",
    "                     'Road Type - Dual Carriageway')\n",
    "    plt.barh([0, 1], [[-0.769], [-0.584], [0.421], [-0.385], [-0.376]], alpha=0.5)\n",
    "    plt.yticks([0, 1], labels)\n",
    "    plt.xlabel('Probability')\n",
    "    plt.xlim(0,1.01)\n",
    "    plt.tight_layout()\n",
    "    plt.show()\n",
    "    "
   ]
  },
  {
   "cell_type": "code",
   "execution_count": 13,
   "metadata": {},
   "outputs": [
    {
     "ename": "SyntaxError",
     "evalue": "unexpected EOF while parsing (<ipython-input-13-637600e84d83>, line 5)",
     "output_type": "error",
     "traceback": [
      "\u001b[0;36m  File \u001b[0;32m\"<ipython-input-13-637600e84d83>\"\u001b[0;36m, line \u001b[0;32m5\u001b[0m\n\u001b[0;31m    \u001b[0m\n\u001b[0m    ^\u001b[0m\n\u001b[0;31mSyntaxError\u001b[0m\u001b[0;31m:\u001b[0m unexpected EOF while parsing\n"
     ]
    }
   ],
   "source": [
    "fig, ax = plt.subplots(1, figsize=(10,15))\n",
    "coef.plot(kind='barh', color=coef.positive.map({True: 'tomato', False: 'royalblue'})\n",
    "\n"
   ]
  },
  {
   "cell_type": "code",
   "execution_count": null,
   "metadata": {},
   "outputs": [],
   "source": [
    "fig, ax = plt.subplots(1, figsize=(15, 6))\n",
    "bar_width = 0.2\n",
    "x1 = urb_0.iloc[:, 0]\n",
    "x2 = urb_1.iloc[:,0]\n",
    "y1 = urb_0.iloc[:,1]\n",
    "y2 = urb_1.iloc[:,1]\n",
    "ax.bar(x1, y1, color='royalblue', width=bar_width, align='edge', label='lack of Severity')\n",
    "ax.bar(x2, y2, color='tomato', width=-bar_width, align='edge', label='Severity')\n",
    "plt.xticks(rotation=45, fontsize=10, horizontalalignment='center')\n",
    "ax.set_ylabel(\"Number of Accidents\", fontsize=15)\n",
    "ax.set_title(\"Urban v Rural\", fontsize=18)\n",
    "fig.tight_layout()"
   ]
  }
 ],
 "metadata": {
  "kernelspec": {
   "display_name": "Python 3",
   "language": "python",
   "name": "python3"
  },
  "language_info": {
   "codemirror_mode": {
    "name": "ipython",
    "version": 3
   },
   "file_extension": ".py",
   "mimetype": "text/x-python",
   "name": "python",
   "nbconvert_exporter": "python",
   "pygments_lexer": "ipython3",
   "version": "3.7.7"
  }
 },
 "nbformat": 4,
 "nbformat_minor": 4
}
